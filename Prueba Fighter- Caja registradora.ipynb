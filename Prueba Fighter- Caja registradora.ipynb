{
  "cells": [
    {
      "cell_type": "code",
      "execution_count": null,
      "metadata": {
        "id": "QFOoeK69_yHP"
      },
      "outputs": [],
      "source": [
        "productos={\"Combo 1\":20000,\"Combo 2\":25000,\"Combo 3\":18000,\"Combo 4\":24500,\"Papas\":3000,\"Jugos Naturales\":7000,\"Cerveza\":3500,\"Agua\":4000,\"Gaseosas\":2500}\n",
        "class counter:\n",
        "    lista1=[]\n",
        "    total=0\n",
        "    precio=0\n",
        "    dec1='S'\n",
        "    dia='N'\n",
        "def facturador():\n",
        "    while counter.dec1.upper()!='N':\n",
        "      print('Que desea ordenar?')\n",
        "      for i in productos:\n",
        "          print(repr(i),\"$:\",productos[i])\n",
        "      pedido=input(\"Ingrese el producto que desea: \")\n",
        "      counter.lista1.append(pedido)\n",
        "      counter.lista1.append(productos[pedido])\n",
        "      counter.dec1=input(\"Desea añadir algo más?: (S/N)\")\n",
        "      counter.precio=counter.precio+productos[pedido]\n",
        "      counter.total=+counter.precio\n",
        "      if counter.dec1.upper()=='N':\n",
        "          print(\"Ha ordenado: \",counter.lista1,\"Costo total:\",counter.precio)\n",
        "          counter.precio=0\n",
        "      return;\n",
        "\n",
        "while counter.dia.upper()!='S':\n",
        "  counter.dia=input(\"Ha terminado su jornada laboral?\")\n",
        "  if counter.dia.upper()=='N':\n",
        "    facturador()\n",
        "  else:\n",
        "    break;\n",
        "  \n",
        "print(\"En el día se han recaudado:$\",counter.total)"
      ]
    }
  ],
  "metadata": {
    "colab": {
      "collapsed_sections": [],
      "provenance": []
    },
    "kernelspec": {
      "display_name": "Python 3.10.5 64-bit (system)",
      "language": "python",
      "name": "python3"
    },
    "language_info": {
      "name": "python",
      "version": "3.10.5"
    },
    "vscode": {
      "interpreter": {
        "hash": "719571b0c2cfb6f881af070cbfd42a52853cc75b1cf4668b90b8b0dae8b2cea4"
      }
    }
  },
  "nbformat": 4,
  "nbformat_minor": 0
}
