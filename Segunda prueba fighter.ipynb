{
 "cells": [
  {
   "cell_type": "code",
   "execution_count": 1,
   "metadata": {},
   "outputs": [
    {
     "name": "stdout",
     "output_type": "stream",
     "text": [
      "Ingrese la nota número  1\n",
      "Ingrese la nota número  2\n",
      "Ingrese la nota número  3\n",
      "Ingrese la nota número  4\n",
      "Ingrese la nota número  5\n",
      "El promedio de notas es:  35.0\n",
      "Ingrese la nota número  1\n",
      "Ingrese la nota número  2\n",
      "Ingrese la nota número  3\n",
      "Ingrese la nota número  4\n",
      "Ingrese la nota número  5\n",
      "El promedio de notas es:  41.8\n",
      "Ingrese la nota número  1\n",
      "Ingrese la nota número  2\n",
      "Ingrese la nota número  3\n",
      "Ingrese la nota número  4\n",
      "El promedio de notas es:  38.25\n",
      "Los promedios de los cursos son:  {'A': 35.0, 'B': 41.8, 'C': 38.25}\n",
      "El curso con mayor promedio es:  B\n"
     ]
    }
   ],
   "source": [
    "import operator\n",
    "curso={}\n",
    "dec1='S'\n",
    "name=''\n",
    "while dec1.upper()!='N':\n",
    "    name=input(\"Ingrese el nombre del curso: \")\n",
    "    n = float(input(\"Ingrese el número de notas a promediar: \"))\n",
    "    suma = 0 \n",
    "    i = 1 \n",
    "    while (i <= n): \n",
    "        print(\"Ingrese la nota número \",i) \n",
    "        nota = float(input())\n",
    "        suma=suma+nota \n",
    "        i+=1\n",
    "    prom = suma / n \n",
    "    print(\"El promedio de notas es: \",prom)\n",
    "    curso[name]=prom\n",
    "    dec1=input(\"¿Desea ingresar los datos de otro curso?: (S/N)\")\n",
    "\n",
    "print(\"Los promedios de los cursos son: \",curso)\n",
    "maximo= max(curso.items(), key=operator.itemgetter(1))[0]\n",
    "print(\"El curso con mayor promedio es: \",maximo)"
   ]
  },
  {
   "cell_type": "code",
   "execution_count": null,
   "metadata": {},
   "outputs": [],
   "source": []
  }
 ],
 "metadata": {
  "kernelspec": {
   "display_name": "Python 3.10.6 64-bit",
   "language": "python",
   "name": "python3"
  },
  "language_info": {
   "codemirror_mode": {
    "name": "ipython",
    "version": 3
   },
   "file_extension": ".py",
   "mimetype": "text/x-python",
   "name": "python",
   "nbconvert_exporter": "python",
   "pygments_lexer": "ipython3",
   "version": "3.10.6"
  },
  "orig_nbformat": 4,
  "vscode": {
   "interpreter": {
    "hash": "1cd17f5141b21e2ef08553ce546070aafbc3c3871eba7bcf9fa425af824b01f9"
   }
  }
 },
 "nbformat": 4,
 "nbformat_minor": 2
}
