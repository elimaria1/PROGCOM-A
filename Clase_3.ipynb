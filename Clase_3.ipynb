{
  "nbformat": 4,
  "nbformat_minor": 0,
  "metadata": {
    "colab": {
      "name": "Clase 3",
      "provenance": [],
      "collapsed_sections": []
    },
    "kernelspec": {
      "name": "python3",
      "display_name": "Python 3"
    },
    "language_info": {
      "name": "python"
    }
  },
  "cells": [
    {
      "cell_type": "markdown",
      "source": [
        "#Actividad en clase"
      ],
      "metadata": {
        "id": "0xl3vehymzGU"
      }
    },
    {
      "cell_type": "markdown",
      "source": [
        "##Ejercicio1"
      ],
      "metadata": {
        "id": "X3svZygzm4Oj"
      }
    },
    {
      "cell_type": "code",
      "source": [
        "a=int(input(\"Ingrese un número: \"))\n",
        "b=int(input(\"Ingrese otro número: \"))\n",
        "if b==0:\n",
        "  print(\"Error. No es posible dividir entre 0\")\n",
        "  print(\"Reemplace el valor del segundo número\")\n",
        "\n",
        "elif b!=0:\n",
        "  Respuesta=float(a/b)\n",
        "  Residuo=float(a%b)\n",
        "  print(\"El resultado es: \",Respuesta)\n",
        "  print(\"El residuo es: \",Residuo)"
      ],
      "metadata": {
        "colab": {
          "base_uri": "https://localhost:8080/"
        },
        "id": "TRoWMui2m7QL",
        "outputId": "75426c8f-7b3b-4b78-ce40-be4371cbcd88"
      },
      "execution_count": null,
      "outputs": [
        {
          "output_type": "stream",
          "name": "stdout",
          "text": [
            "Ingrese un número: 2\n",
            "Ingrese otro número: 5\n",
            "El resultado es:  0.4\n",
            "El residuo es:  2.0\n"
          ]
        }
      ]
    },
    {
      "cell_type": "markdown",
      "source": [
        "##Ejercicio 2"
      ],
      "metadata": {
        "id": "M9cZQvaWtRpQ"
      }
    },
    {
      "cell_type": "code",
      "source": [
        "a=int(input(\"Ingrese un número: \"))\n",
        "b=int(input(\"Ingrese otro número: \"))\n",
        "comp=a%b\n",
        "if comp==0:\n",
        "  print(\"El número:\",a,\" es multiplo de: \",b)\n",
        "else:\n",
        "  print(\"El número:\",a,\" no es multiplo de: \",b)"
      ],
      "metadata": {
        "colab": {
          "base_uri": "https://localhost:8080/"
        },
        "id": "V2YBTK6F0CGp",
        "outputId": "23ed4c2b-243e-4e59-9710-1f23009c9992"
      },
      "execution_count": null,
      "outputs": [
        {
          "output_type": "stream",
          "name": "stdout",
          "text": [
            "Ingrese un número: 12\n",
            "Ingrese otro número: 2\n",
            "El número: 12  es multiplo de:  2\n"
          ]
        }
      ]
    },
    {
      "cell_type": "markdown",
      "source": [
        "##Ejercicio 3"
      ],
      "metadata": {
        "id": "als8M2FLx2uu"
      }
    },
    {
      "cell_type": "code",
      "source": [
        "Nombre1=type(\"Hemano 1 ingrese su nombre\")\n",
        "Edad1=int(input(\"Ingrese su edad\"))\n",
        "Nombre2=type(\"Hemano 2 ingrese su nombre\")\n",
        "Edad2=int(input(\"Ingrese su edad\"))\n",
        "Nombre3=type(\"Hemano 3 ingrese su nombre\")\n",
        "Edad3=int(input(\"Ingrese su edad\"))\n",
        "\n",
        "if Edad1 < Edad2 and Edad1 < Edad3:\n",
        "  pequeño=Edad1\n",
        "\n",
        "elif Edad1 > Edad2 and Edad1 < Edad3:\n",
        "  mediano=Edad1\n",
        "\n",
        "elif Edad1 > Edad2 and Edad1 > Edad3:\n",
        "  grande=Edad1\n",
        "\n",
        "\n",
        "print(int(\"El hermano menor es \",pequeño))\n",
        "print(int(\"El hermano del medio es \",mediano))\n",
        "print(int(\"El hermano mayor es \",grande))\n"
      ],
      "metadata": {
        "id": "xbwH3HEsuN7c",
        "colab": {
          "base_uri": "https://localhost:8080/",
          "height": 287
        },
        "outputId": "9b3fd0c4-baae-42ad-8638-6166ae027569"
      },
      "execution_count": null,
      "outputs": [
        {
          "name": "stdout",
          "output_type": "stream",
          "text": [
            "Ingrese su edad12\n",
            "Ingrese su edad1\n",
            "Ingrese su edad8\n"
          ]
        },
        {
          "output_type": "error",
          "ename": "NameError",
          "evalue": "ignored",
          "traceback": [
            "\u001b[0;31m---------------------------------------------------------------------------\u001b[0m",
            "\u001b[0;31mNameError\u001b[0m                                 Traceback (most recent call last)",
            "\u001b[0;32m<ipython-input-27-77f9c23e1ce7>\u001b[0m in \u001b[0;36m<module>\u001b[0;34m()\u001b[0m\n\u001b[1;32m     16\u001b[0m \u001b[0;34m\u001b[0m\u001b[0m\n\u001b[1;32m     17\u001b[0m \u001b[0;34m\u001b[0m\u001b[0m\n\u001b[0;32m---> 18\u001b[0;31m \u001b[0mprint\u001b[0m\u001b[0;34m(\u001b[0m\u001b[0mint\u001b[0m\u001b[0;34m(\u001b[0m\u001b[0;34m\"El hermano menor es\"\u001b[0m\u001b[0;34m,\u001b[0m\u001b[0mpequeño\u001b[0m\u001b[0;34m)\u001b[0m\u001b[0;34m)\u001b[0m\u001b[0;34m\u001b[0m\u001b[0;34m\u001b[0m\u001b[0m\n\u001b[0m\u001b[1;32m     19\u001b[0m \u001b[0mprint\u001b[0m\u001b[0;34m(\u001b[0m\u001b[0mint\u001b[0m\u001b[0;34m(\u001b[0m\u001b[0;34m\"El hermano del medio es\"\u001b[0m\u001b[0;34m,\u001b[0m\u001b[0mmediano\u001b[0m\u001b[0;34m)\u001b[0m\u001b[0;34m)\u001b[0m\u001b[0;34m\u001b[0m\u001b[0;34m\u001b[0m\u001b[0m\n\u001b[1;32m     20\u001b[0m \u001b[0mprint\u001b[0m\u001b[0;34m(\u001b[0m\u001b[0mint\u001b[0m\u001b[0;34m(\u001b[0m\u001b[0;34m\"El hermano mayor es\"\u001b[0m\u001b[0;34m,\u001b[0m\u001b[0mgrande\u001b[0m\u001b[0;34m)\u001b[0m\u001b[0;34m)\u001b[0m\u001b[0;34m\u001b[0m\u001b[0;34m\u001b[0m\u001b[0m\n",
            "\u001b[0;31mNameError\u001b[0m: name 'pequeño' is not defined"
          ]
        }
      ]
    }
  ]
}