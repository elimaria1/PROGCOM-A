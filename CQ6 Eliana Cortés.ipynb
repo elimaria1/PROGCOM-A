{
  "cells": [
    {
      "cell_type": "markdown",
      "metadata": {
        "id": "RXIxrUAL67Qu"
      },
      "source": [
        "# [CQ6] CHEMS QUEST SIX\n",
        "\n",
        "## ¿Qué significan éstas palabras? Definición y ejemplo"
      ]
    },
    {
      "cell_type": "markdown",
      "metadata": {
        "id": "trEEpNSf67Qw"
      },
      "source": [
        "False\n",
        "* Es una variable de tipo booleana. Este tiene el valor falso (numéricamente es cero). En general los elementos nulos o vacíos se consideran False."
      ]
    },
    {
      "cell_type": "code",
      "execution_count": 1,
      "metadata": {
        "id": "IzveVP1867Qx",
        "outputId": "4fbe88b4-de48-4ded-fc37-135e34a2ea77"
      },
      "outputs": [
        {
          "data": {
            "text/plain": [
              "False"
            ]
          },
          "execution_count": 1,
          "metadata": {},
          "output_type": "execute_result"
        }
      ],
      "source": [
        "bool(0)"
      ]
    },
    {
      "cell_type": "markdown",
      "metadata": {
        "id": "a1A_5xAh67Qy"
      },
      "source": [
        "None\n",
        "* Representa la ausencia de un valor. El valor None es el único valor del tipo de datos NoneType."
      ]
    },
    {
      "cell_type": "code",
      "execution_count": 17,
      "metadata": {
        "colab": {
          "base_uri": "https://localhost:8080/"
        },
        "id": "MPtsYd3n7EeU",
        "outputId": "2d2eb5f7-3548-4096-d48d-1c3992d1da4c"
      },
      "outputs": [
        {
          "name": "stdout",
          "output_type": "stream",
          "text": [
            "a es None\n",
            "Su valor literal es: None\n",
            "<class 'NoneType'>\n"
          ]
        }
      ],
      "source": [
        "a = None\n",
        "if a == None:\n",
        "    print(f\"a es None\\nSu valor literal es: {a}\")\n",
        "    print(type(a))\n",
        "else:\n",
        "    print(\"a no es None.\")"
      ]
    },
    {
      "cell_type": "markdown",
      "metadata": {
        "id": "qjhoqvhU67Qz"
      },
      "source": [
        "True\n",
        "* Es una variable booleana. Tiene el valor cierto (numéricamente es uno)."
      ]
    },
    {
      "cell_type": "code",
      "execution_count": 5,
      "metadata": {
        "id": "IE_pcGcP67Qz"
      },
      "outputs": [
        {
          "data": {
            "text/plain": [
              "True"
            ]
          },
          "execution_count": 5,
          "metadata": {},
          "output_type": "execute_result"
        }
      ],
      "source": [
        "bool(25)"
      ]
    },
    {
      "cell_type": "markdown",
      "metadata": {
        "id": "tFCUyPSD67Q0"
      },
      "source": [
        "and\n",
        "* Opera hasta que se cumpla la operación booleana. Si alguno de los valores es falso en contexto booleano, and devuelve el primer valor falso."
      ]
    },
    {
      "cell_type": "code",
      "execution_count": 6,
      "metadata": {
        "colab": {
          "base_uri": "https://localhost:8080/"
        },
        "id": "w4KGmmUS7Fdp",
        "outputId": "bf0762aa-c6a2-4e94-b6dd-f313b01803a5"
      },
      "outputs": [
        {
          "name": "stdout",
          "output_type": "stream",
          "text": [
            "A y B son mayores que 0\n",
            "El valor de a es 24 y el valor de b es 232\n"
          ]
        }
      ],
      "source": [
        "a=24\n",
        "b=232\n",
        "\n",
        "if a > 0 and b > 0:\n",
        "  print(\"A y B son mayores que 0\")\n",
        "  print(f\"El valor de a es {a} y el valor de b es {b}\")"
      ]
    },
    {
      "cell_type": "markdown",
      "metadata": {
        "id": "KoVs_vLG67Q0"
      },
      "source": [
        "as\n",
        "\n",
        "*   Se puede utilizar para crear un \"Alias\" en función de una variable o librería \n",
        "*   Es útil cuando no se puede usar el operador de asignación, como el módulo de importación\n",
        "\n"
      ]
    },
    {
      "cell_type": "code",
      "execution_count": 7,
      "metadata": {
        "id": "rk7U6ye97F49"
      },
      "outputs": [
        {
          "name": "stdout",
          "output_type": "stream",
          "text": [
            "La fecha almacenada en la variable a es: 2022-09-09 23:27:02.992093\n",
            "La fecha almacenada en la variable b es: 2022-09-09\n"
          ]
        }
      ],
      "source": [
        "#Se importa la librería datetime\n",
        "\n",
        "from datetime import *\n",
        "\n",
        "a= datetime.now()\n",
        "#mediante el uso de la palabra clave as se cambia su denominación\n",
        "\n",
        "import datetime as DT\n",
        "\n",
        "b= DT.date.today()\n",
        "\n",
        "print(f\"La fecha almacenada en la variable a es: {a}\")\n",
        "\n",
        "print(f\"La fecha almacenada en la variable b es: {b}\")"
      ]
    },
    {
      "cell_type": "markdown",
      "metadata": {
        "id": "9OtuCART67Q0"
      },
      "source": [
        "assert\n",
        "\n",
        "\n",
        "*   Permite realizar la depuración del código en caso de que se encuentre con datos que son \"imposibles\" de ejecutar.\n",
        "\n",
        "\n"
      ]
    },
    {
      "cell_type": "code",
      "execution_count": 8,
      "metadata": {
        "colab": {
          "base_uri": "https://localhost:8080/"
        },
        "id": "HMP_584J7GYc",
        "outputId": "eb411365-73fc-455f-dc1a-4076df4c4b0e"
      },
      "outputs": [
        {
          "name": "stdout",
          "output_type": "stream",
          "text": [
            "-1180\n"
          ]
        }
      ],
      "source": [
        "##Ejemplo sin el uso de assert\n",
        "\n",
        "price=20\n",
        "discount= 60 #Descuento del 45%\n",
        "def calculate_discount(price, discount):\n",
        "    discounted_price = price - (discount*price)\n",
        "    print(discounted_price)\n",
        "    return;\n",
        "\n",
        "calculate_discount(price, discount)"
      ]
    },
    {
      "cell_type": "code",
      "execution_count": 9,
      "metadata": {
        "colab": {
          "base_uri": "https://localhost:8080/",
          "height": 323
        },
        "id": "dichVynWAVUO",
        "outputId": "424a3ca2-d3b3-4ef7-c11d-8ddffeea1173"
      },
      "outputs": [
        {
          "ename": "AssertionError",
          "evalue": "",
          "output_type": "error",
          "traceback": [
            "\u001b[1;31m---------------------------------------------------------------------------\u001b[0m",
            "\u001b[1;31mAssertionError\u001b[0m                            Traceback (most recent call last)",
            "\u001b[1;32mc:\\Users\\jaimc\\Downloads\\CQ6 (3).ipynb Celda 14\u001b[0m in \u001b[0;36m<cell line: 10>\u001b[1;34m()\u001b[0m\n\u001b[0;32m      <a href='vscode-notebook-cell:/c%3A/Users/jaimc/Downloads/CQ6%20%283%29.ipynb#X16sZmlsZQ%3D%3D?line=6'>7</a>\u001b[0m     \u001b[39mprint\u001b[39m(discounted_price)\n\u001b[0;32m      <a href='vscode-notebook-cell:/c%3A/Users/jaimc/Downloads/CQ6%20%283%29.ipynb#X16sZmlsZQ%3D%3D?line=7'>8</a>\u001b[0m     \u001b[39mreturn\u001b[39;00m;\n\u001b[1;32m---> <a href='vscode-notebook-cell:/c%3A/Users/jaimc/Downloads/CQ6%20%283%29.ipynb#X16sZmlsZQ%3D%3D?line=9'>10</a>\u001b[0m calculate_discount(price, discount)\n",
            "\u001b[1;32mc:\\Users\\jaimc\\Downloads\\CQ6 (3).ipynb Celda 14\u001b[0m in \u001b[0;36mcalculate_discount\u001b[1;34m(price, discount)\u001b[0m\n\u001b[0;32m      <a href='vscode-notebook-cell:/c%3A/Users/jaimc/Downloads/CQ6%20%283%29.ipynb#X16sZmlsZQ%3D%3D?line=3'>4</a>\u001b[0m \u001b[39mdef\u001b[39;00m \u001b[39mcalculate_discount\u001b[39m(price, discount):\n\u001b[0;32m      <a href='vscode-notebook-cell:/c%3A/Users/jaimc/Downloads/CQ6%20%283%29.ipynb#X16sZmlsZQ%3D%3D?line=4'>5</a>\u001b[0m     discounted_price \u001b[39m=\u001b[39m price \u001b[39m-\u001b[39m (discount\u001b[39m*\u001b[39mprice)\n\u001b[1;32m----> <a href='vscode-notebook-cell:/c%3A/Users/jaimc/Downloads/CQ6%20%283%29.ipynb#X16sZmlsZQ%3D%3D?line=5'>6</a>\u001b[0m     \u001b[39massert\u001b[39;00m \u001b[39m0\u001b[39m \u001b[39m<\u001b[39m\u001b[39m=\u001b[39m discounted_price \u001b[39m<\u001b[39m\u001b[39m=\u001b[39m price\n\u001b[0;32m      <a href='vscode-notebook-cell:/c%3A/Users/jaimc/Downloads/CQ6%20%283%29.ipynb#X16sZmlsZQ%3D%3D?line=6'>7</a>\u001b[0m     \u001b[39mprint\u001b[39m(discounted_price)\n\u001b[0;32m      <a href='vscode-notebook-cell:/c%3A/Users/jaimc/Downloads/CQ6%20%283%29.ipynb#X16sZmlsZQ%3D%3D?line=7'>8</a>\u001b[0m     \u001b[39mreturn\u001b[39;00m\n",
            "\u001b[1;31mAssertionError\u001b[0m: "
          ]
        }
      ],
      "source": [
        "##Ejemplo con uso de assert\n",
        "price=20\n",
        "discount= 60 #Descuento del 45%\n",
        "def calculate_discount(price, discount):\n",
        "    discounted_price = price - (discount*price)\n",
        "    assert 0 <= discounted_price <= price\n",
        "    print(discounted_price)\n",
        "    return;\n",
        "\n",
        "calculate_discount(price, discount)\n",
        "\n",
        "##Como se puede evidenciar la función no regresa un valor negativo como en el caso anterior\n",
        "##En su lugar entrega al desarrollador un error conocido como \"AssertionError\" indicando que algo \"Imposible\" ha sucedido"
      ]
    },
    {
      "cell_type": "markdown",
      "metadata": {
        "id": "c8ynPO7Q67Q1"
      },
      "source": [
        "break\n",
        "* La sentencia break nos permite alterar el comportamiento de los bucles while y for. Permite terminar con la ejecución del bucle. Esto significa que una vez se encuentra la palabra break , el bucle terminará."
      ]
    },
    {
      "cell_type": "code",
      "execution_count": 10,
      "metadata": {
        "colab": {
          "base_uri": "https://localhost:8080/"
        },
        "id": "30K3em8A7HRc",
        "outputId": "d91e0d2e-a19e-4ab2-9bbe-e3b21568181f"
      },
      "outputs": [
        {
          "name": "stdout",
          "output_type": "stream",
          "text": [
            "Hola\n",
            "Hola\n",
            "Hola\n",
            "Hola\n",
            "Hola\n",
            "Hola\n",
            "Hola\n",
            "Hola\n",
            "Hola\n",
            "Hola\n"
          ]
        }
      ],
      "source": [
        "contador=0\n",
        "while contador!=10:\n",
        "  print('Hola')\n",
        "  contador+=1"
      ]
    },
    {
      "cell_type": "code",
      "execution_count": 11,
      "metadata": {
        "colab": {
          "base_uri": "https://localhost:8080/"
        },
        "id": "ydT2HiSqIKTB",
        "outputId": "225fcfae-7258-4e22-b986-7dec7285b6e5"
      },
      "outputs": [
        {
          "name": "stdout",
          "output_type": "stream",
          "text": [
            "Hola\n",
            "Hola\n",
            "Hola\n",
            "Hola\n",
            "Hola\n",
            "Hola\n",
            "Hola\n",
            "Hola\n",
            "Hola\n",
            "Hola\n"
          ]
        }
      ],
      "source": [
        "contador=0\n",
        "while contador!=90:\n",
        "  print('Hola')\n",
        "  contador+=1\n",
        "  if contador==10: ##Cuando el contador llegue a 10 se aplica break\n",
        "    break"
      ]
    },
    {
      "cell_type": "markdown",
      "metadata": {
        "id": "t0Z-do1Q67Q1"
      },
      "source": [
        "class\n",
        "* Es un tipo de dato definido por el usuario, y al crear instancias de una clase hace relación a la creación de objetos de ese tipo. Las clases y los objetos son considerados los principales bloques de desarrollo en Python."
      ]
    },
    {
      "cell_type": "code",
      "execution_count": 12,
      "metadata": {
        "id": "U7r3w4WT7Hks"
      },
      "outputs": [
        {
          "name": "stdout",
          "output_type": "stream",
          "text": [
            "Perro,de color Negro, de raza Cocker Spaniel\n"
          ]
        }
      ],
      "source": [
        "class Animal:\n",
        "  animal='Perro'\n",
        "  color='Negro'\n",
        "  raza='Cocker Spaniel'\n",
        "\n",
        "print(f\"{Animal.animal},de color {Animal.color}, de raza {Animal.raza}\")\n",
        "##Las clases permiten trabajar de forma más simple la creación de objetos y su uso entre funciones"
      ]
    },
    {
      "cell_type": "markdown",
      "metadata": {
        "id": "FrxhoIiQ67Q2"
      },
      "source": [
        "continue\n",
        "* Da la opción de omitir la parte de un bucle en la que se activa una condición externa, pero continuar para completar el resto del bucle. Es decir, la iteración actual del bucle se interrumpirá, pero el programa volverá a la parte superior del bucle."
      ]
    },
    {
      "cell_type": "code",
      "execution_count": 13,
      "metadata": {
        "colab": {
          "base_uri": "https://localhost:8080/"
        },
        "id": "xTvtQWCG7H5C",
        "outputId": "51b80401-1f4c-42cc-fae3-54bb514126eb"
      },
      "outputs": [
        {
          "name": "stdout",
          "output_type": "stream",
          "text": [
            "Ingrese su nombre nuevamente: \n",
            "Su nombre es Gabriel\n",
            "Se ha salido del bucle\n"
          ]
        }
      ],
      "source": [
        "nombre = ''\n",
        "while nombre != 'Gabriel':\n",
        "    nombre = input()\n",
        "    if nombre != 'Gabriel':\n",
        "        print('Ingrese su nombre nuevamente: ')\n",
        "        continue\n",
        "    print('Su nombre es Gabriel')\n",
        "print('Se ha salido del bucle')"
      ]
    },
    {
      "cell_type": "markdown",
      "metadata": {
        "id": "NX0lT6y867Q2"
      },
      "source": [
        "def\n",
        "* Es una palabra reservada que indica a Python que una nueva función está siendo definida. Luego viene una función con un nombre válido de tu elección."
      ]
    },
    {
      "cell_type": "code",
      "execution_count": 14,
      "metadata": {
        "colab": {
          "base_uri": "https://localhost:8080/"
        },
        "id": "GqRMncKF7ISP",
        "outputId": "495b4f8f-e4c1-4cb3-d0a1-d6eb951860c3"
      },
      "outputs": [
        {
          "data": {
            "text/plain": [
              "4.0"
            ]
          },
          "execution_count": 14,
          "metadata": {},
          "output_type": "execute_result"
        }
      ],
      "source": [
        "nota1=5\n",
        "nota2=3\n",
        "def promedioDosnotas(nota1,nota2):\n",
        "  promedio=(nota1+nota2)/2\n",
        "  return promedio\n",
        "\n",
        "promedioDosnotas(nota1,nota2)"
      ]
    },
    {
      "cell_type": "markdown",
      "metadata": {
        "id": "i677vFKA67Q2"
      },
      "source": [
        "del\n",
        "* Se utiliza para eliminar desde variables, objetos de clase, listas, etc."
      ]
    },
    {
      "cell_type": "code",
      "execution_count": 18,
      "metadata": {
        "id": "NSHtx5U27IwN"
      },
      "outputs": [
        {
          "name": "stdout",
          "output_type": "stream",
          "text": [
            "{'python': 2.7, 'zope': 2.13, 'plone': 5.1, 'django': 2.1}\n",
            "{'zope': 2.13, 'plone': 5.1, 'django': 2.1}\n"
          ]
        }
      ],
      "source": [
        "versiones= dict(python=2.7, zope=2.13, plone=5.1, django=2.1)\n",
        "print(versiones)\n",
        "\n",
        "del versiones[\"python\"]\n",
        "print(versiones)"
      ]
    },
    {
      "cell_type": "markdown",
      "metadata": {
        "id": "nC9BdCP367Q2"
      },
      "source": [
        "elif\n",
        "* Significa que un else solo se ejecutará si ninguna de las condiciones es true."
      ]
    },
    {
      "cell_type": "code",
      "execution_count": 19,
      "metadata": {
        "colab": {
          "base_uri": "https://localhost:8080/"
        },
        "id": "jc2puZG_7JYi",
        "outputId": "c0cbadfa-2b73-43ef-8549-01e9e7d6e27e"
      },
      "outputs": [
        {
          "name": "stdout",
          "output_type": "stream",
          "text": [
            "La clave está entre 1 y 6\n"
          ]
        }
      ],
      "source": [
        "clave=3\n",
        "if clave==1 and clave>6:\n",
        "  print(\"Clave diferente de uno y mayor a 6\")\n",
        "elif clave>1 and clave<6:\n",
        "  print(\"La clave está entre 1 y 6\")\n"
      ]
    },
    {
      "cell_type": "markdown",
      "metadata": {
        "id": "OPQoNzxw67Q2"
      },
      "source": [
        "else\n",
        "* Cuando la expresión if se evalúa como True, entonces ejecuta el código que le sigue. Pero si se evalúa como False, entonces ejecuta el código que sigue después de la sentencia else."
      ]
    },
    {
      "cell_type": "code",
      "execution_count": 20,
      "metadata": {
        "id": "ia1U445G67Q3"
      },
      "outputs": [
        {
          "name": "stdout",
          "output_type": "stream",
          "text": [
            "Ha escrito un número positivo\n"
          ]
        }
      ],
      "source": [
        "numero = int(input(\"Escriba un número: \"))\n",
        "if numero >= 0:\n",
        "    print(\"Ha escrito un número positivo\")\n",
        "else:\n",
        "    print(\"Ha escrito un número negativo\")"
      ]
    },
    {
      "cell_type": "markdown",
      "metadata": {
        "id": "3ylqY2I367Q3"
      },
      "source": [
        "except\n",
        "* El bloque except se ejecutará cuando el bloque try falle debido a un error."
      ]
    },
    {
      "cell_type": "code",
      "execution_count": 21,
      "metadata": {
        "colab": {
          "base_uri": "https://localhost:8080/"
        },
        "id": "kSrQ2ZpH7K6H",
        "outputId": "5df4a18a-29e0-43de-8d51-fc6042a039d4"
      },
      "outputs": [
        {
          "name": "stdout",
          "output_type": "stream",
          "text": [
            "a: 5\n",
            "Finalmente anidado\n",
            "Finalizado\n"
          ]
        }
      ],
      "source": [
        "a = {\n",
        "    \"a\": 5,\n",
        "    \"b\": 25,\n",
        "    \"c\": 125\n",
        "}\n",
        "\n",
        "try:\n",
        "    print(a[\"d\"])\n",
        "except KeyError:\n",
        "    try:\n",
        "        print(\"a:\", a[\"a\"])\n",
        "    except:\n",
        "        print(\"No existen valores para 'a' y 'd'\")\n",
        "    finally:\n",
        "        print(\"Finalmente anidado\")\n",
        "finally:\n",
        "    print(\"Finalizado\")"
      ]
    },
    {
      "cell_type": "markdown",
      "metadata": {
        "id": "RM238-pg67Q3"
      },
      "source": [
        "finally\n",
        "* Se ejecuta siempre, así haya surgido un error o no."
      ]
    },
    {
      "cell_type": "code",
      "execution_count": 27,
      "metadata": {
        "colab": {
          "base_uri": "https://localhost:8080/"
        },
        "id": "GfBjBALa7LRH",
        "outputId": "da465ce0-85f7-4916-c6b3-b4fd59527fa7"
      },
      "outputs": [
        {
          "name": "stdout",
          "output_type": "stream",
          "text": [
            "El cociente de la división de ambos números es 3\n",
            "FINALIZADO\n"
          ]
        }
      ],
      "source": [
        "try:\n",
        "    dividendo = int(input('Introduce el dividendo: '))\n",
        "    divisor = int(input('Introduce el divisor: '))\n",
        "    print('El cociente de la división de ambos números es', dividendo//divisor)\n",
        "finally:\n",
        "    print(\"FINALIZADO\")"
      ]
    },
    {
      "cell_type": "code",
      "execution_count": 24,
      "metadata": {
        "colab": {
          "base_uri": "https://localhost:8080/",
          "height": 289
        },
        "id": "G9xxS_fAmXWp",
        "outputId": "930bdbf3-ceac-4aa9-868c-b946307f1345"
      },
      "outputs": [
        {
          "name": "stdout",
          "output_type": "stream",
          "text": [
            "Finalizado\n"
          ]
        },
        {
          "ename": "ZeroDivisionError",
          "evalue": "integer division or modulo by zero",
          "output_type": "error",
          "traceback": [
            "\u001b[1;31m---------------------------------------------------------------------------\u001b[0m",
            "\u001b[1;31mZeroDivisionError\u001b[0m                         Traceback (most recent call last)",
            "\u001b[1;32mc:\\Users\\jaimc\\Downloads\\CQ6 (3).ipynb Celda 34\u001b[0m in \u001b[0;36m<cell line: 1>\u001b[1;34m()\u001b[0m\n\u001b[0;32m      <a href='vscode-notebook-cell:/c%3A/Users/jaimc/Downloads/CQ6%20%283%29.ipynb#X45sZmlsZQ%3D%3D?line=1'>2</a>\u001b[0m     dividendo \u001b[39m=\u001b[39m \u001b[39mint\u001b[39m(\u001b[39minput\u001b[39m(\u001b[39m'\u001b[39m\u001b[39mIntroduce el dividendo: \u001b[39m\u001b[39m'\u001b[39m))\n\u001b[0;32m      <a href='vscode-notebook-cell:/c%3A/Users/jaimc/Downloads/CQ6%20%283%29.ipynb#X45sZmlsZQ%3D%3D?line=2'>3</a>\u001b[0m     divisor \u001b[39m=\u001b[39m \u001b[39mint\u001b[39m(\u001b[39minput\u001b[39m(\u001b[39m'\u001b[39m\u001b[39mIntroduce el divisor: \u001b[39m\u001b[39m'\u001b[39m))\n\u001b[1;32m----> <a href='vscode-notebook-cell:/c%3A/Users/jaimc/Downloads/CQ6%20%283%29.ipynb#X45sZmlsZQ%3D%3D?line=3'>4</a>\u001b[0m     \u001b[39mprint\u001b[39m(\u001b[39m'\u001b[39m\u001b[39mEl cociente de la división de ambos números es\u001b[39m\u001b[39m'\u001b[39m, dividendo\u001b[39m/\u001b[39;49m\u001b[39m/\u001b[39;49mdivisor)\n\u001b[0;32m      <a href='vscode-notebook-cell:/c%3A/Users/jaimc/Downloads/CQ6%20%283%29.ipynb#X45sZmlsZQ%3D%3D?line=4'>5</a>\u001b[0m \u001b[39mfinally\u001b[39;00m:\n\u001b[0;32m      <a href='vscode-notebook-cell:/c%3A/Users/jaimc/Downloads/CQ6%20%283%29.ipynb#X45sZmlsZQ%3D%3D?line=5'>6</a>\u001b[0m     \u001b[39mprint\u001b[39m(\u001b[39m\"\u001b[39m\u001b[39mFinalizado\u001b[39m\u001b[39m\"\u001b[39m)\n",
            "\u001b[1;31mZeroDivisionError\u001b[0m: integer division or modulo by zero"
          ]
        }
      ],
      "source": [
        "try:\n",
        "    dividendo = int(input('Introduce el dividendo: '))\n",
        "    divisor = int(input('Introduce el divisor: '))\n",
        "    print('El cociente de la división de ambos números es', dividendo//divisor)\n",
        "finally:\n",
        "    print(\"Finalizado\")  ##Como se ve en el error aunque se provoque un error, finally siempre se ejecuta"
      ]
    },
    {
      "cell_type": "markdown",
      "metadata": {
        "id": "j7ibZFcG67Q3"
      },
      "source": [
        "for\n",
        "* Se utiliza para repetir una o más instrucciones un determinado número de veces."
      ]
    },
    {
      "cell_type": "code",
      "execution_count": 25,
      "metadata": {
        "colab": {
          "base_uri": "https://localhost:8080/"
        },
        "id": "ts99k0eQ7Lyj",
        "outputId": "5b613ec7-3ea1-418a-cd50-b31248be6f99"
      },
      "outputs": [
        {
          "name": "stdout",
          "output_type": "stream",
          "text": [
            "El número es: 0\n",
            "El número es: 1\n",
            "El número es: 2\n",
            "El número es: 3\n",
            "El número es: 4\n",
            "El número es: 5\n",
            "El número es: 6\n",
            "El número es: 7\n",
            "El número es: 8\n",
            "El número es: 9\n",
            "Fin del bucle\n"
          ]
        }
      ],
      "source": [
        "number = 0\n",
        "for número in range(10):\n",
        "    if número == 5:\n",
        "        pass\n",
        "    print('El número es: ' + str(número))\n",
        "print(\"Fin del bucle\")"
      ]
    },
    {
      "cell_type": "markdown",
      "metadata": {
        "id": "IUoCNmee67Q3"
      },
      "source": [
        "from\n",
        "\n",
        "\n",
        "*   En conjunto con import puede traer solo las partes que le interesan a la persona desde una librería, en lugar de traer todos sus elementos.\n",
        "\n"
      ]
    },
    {
      "cell_type": "code",
      "execution_count": 28,
      "metadata": {
        "colab": {
          "base_uri": "https://localhost:8080/"
        },
        "id": "LZaszdXo7MT3",
        "outputId": "ceccd6f7-c809-41b9-ae74-6a7c945f12c3"
      },
      "outputs": [
        {
          "name": "stdout",
          "output_type": "stream",
          "text": [
            "15:00:00\n"
          ]
        }
      ],
      "source": [
        "from datetime import time\n",
        "\n",
        "x = time(hour=15)\n",
        "print(x)"
      ]
    },
    {
      "cell_type": "markdown",
      "metadata": {
        "id": "HrYJRdRQ67Q4"
      },
      "source": [
        "global\n",
        "* Son aquellas definidas en el cuerpo principal del programa fuera de cualquier función. Son accesibles desde cualquier punto del programa, incluso desde dentro de funciones. También se puede acceder a las variables globales de otros programas o módulos importados."
      ]
    },
    {
      "cell_type": "code",
      "execution_count": 30,
      "metadata": {
        "colab": {
          "base_uri": "https://localhost:8080/"
        },
        "id": "MtSclHAz7M7a",
        "outputId": "7a7c3c41-b307-459d-d4bc-0c4e699b475a"
      },
      "outputs": [
        {
          "name": "stdout",
          "output_type": "stream",
          "text": [
            "Python es fantástico\n"
          ]
        }
      ],
      "source": [
        "x = \"asombroso\"\n",
        "\n",
        "def myfunc():\n",
        "  global x\n",
        "  x = \"fantástico\"\n",
        "\n",
        "myfunc()\n",
        "\n",
        "print(\"Python es \" + x)"
      ]
    },
    {
      "cell_type": "markdown",
      "metadata": {
        "id": "fCcweQfx67Q4"
      },
      "source": [
        "if\n",
        "* Se usa para tomar decisiones, este evalúa básicamente una operación lógica, es decir una expresión que dé como resultado True o False , y ejecuta la pieza de código siguiente siempre y cuando el resultado sea verdadero."
      ]
    },
    {
      "cell_type": "code",
      "execution_count": 31,
      "metadata": {
        "colab": {
          "base_uri": "https://localhost:8080/"
        },
        "id": "efbx6hAM7NSq",
        "outputId": "53d9b4c8-3fd4-40c4-d200-4c2eeff27143"
      },
      "outputs": [
        {
          "name": "stdout",
          "output_type": "stream",
          "text": [
            "Hola mundo\n"
          ]
        }
      ],
      "source": [
        "num=1\n",
        "if num==1:\n",
        "  print(\"Hola mundo\")\n",
        "else:\n",
        "  print(\"Adios mundo\")"
      ]
    },
    {
      "cell_type": "markdown",
      "metadata": {
        "id": "odLs0m0l67Q4"
      },
      "source": [
        "import\n",
        "* En un módulo obtiene acceso al código en otro módulo por el proceso de importarlo. La instrucción import es la forma más común de invocar la maquinaria de importación, pero no es la única manera."
      ]
    },
    {
      "cell_type": "code",
      "execution_count": 32,
      "metadata": {
        "colab": {
          "base_uri": "https://localhost:8080/"
        },
        "id": "6y39Jrdf7NxT",
        "outputId": "c1879e88-f892-40d7-e27c-1777f0f32603"
      },
      "outputs": [
        {
          "name": "stdout",
          "output_type": "stream",
          "text": [
            "9\n"
          ]
        }
      ],
      "source": [
        "import random\n",
        "num= int(random.uniform(1,10))\n",
        "print(num)"
      ]
    },
    {
      "cell_type": "markdown",
      "metadata": {
        "id": "2R67StPW67Q4"
      },
      "source": [
        "in\n",
        "* Devuelve True si el valor especificado se encuentra en la secuencia. En caso contrario devuelve False."
      ]
    },
    {
      "cell_type": "code",
      "execution_count": 33,
      "metadata": {
        "colab": {
          "base_uri": "https://localhost:8080/"
        },
        "id": "5q4ucjjm7Omj",
        "outputId": "b267e3df-b47c-453e-f66b-b4df285d4a1a"
      },
      "outputs": [
        {
          "name": "stdout",
          "output_type": "stream",
          "text": [
            "Papas\n",
            "Hamburguesa\n",
            "Hot Dog\n",
            "Gaseosas\n",
            "Combo 1\n",
            "Combo 2\n",
            "Combo 3\n"
          ]
        }
      ],
      "source": [
        "lista=['Papas','Hamburguesa','Hot Dog','Gaseosas','Combo 1', 'Combo 2', 'Combo 3']\n",
        "for i in lista:\n",
        "  print(i)"
      ]
    },
    {
      "cell_type": "markdown",
      "metadata": {
        "id": "M4t6SLYU67Q4"
      },
      "source": [
        "is\n",
        "* Devolverá True si las dos variables apuntan al mismo objeto."
      ]
    },
    {
      "cell_type": "code",
      "execution_count": 34,
      "metadata": {
        "colab": {
          "base_uri": "https://localhost:8080/"
        },
        "id": "MaHp8_0o67Q4",
        "outputId": "22391333-2fe2-433a-f721-adc8bc828b2a"
      },
      "outputs": [
        {
          "name": "stdout",
          "output_type": "stream",
          "text": [
            "True\n"
          ]
        }
      ],
      "source": [
        "a = [1, 2 , 3, 4]\n",
        "b = a\n",
        "\n",
        "print(a is b)"
      ]
    },
    {
      "cell_type": "markdown",
      "metadata": {
        "id": "oqkkIk0h67Q5"
      },
      "source": [
        "lambda\n",
        "* Las expresiones lambda son una forma corta de declarar funciones pequeñas y anónimas. Las funciones Lambda se comportan como funciones normales declaradas con la palabra clave def."
      ]
    },
    {
      "cell_type": "code",
      "execution_count": 35,
      "metadata": {
        "colab": {
          "base_uri": "https://localhost:8080/"
        },
        "id": "FoEB_Cfs7RA4",
        "outputId": "5c623396-16c2-4dff-8a57-3afea1a55eda"
      },
      "outputs": [
        {
          "name": "stdout",
          "output_type": "stream",
          "text": [
            "30\n"
          ]
        }
      ],
      "source": [
        "x = lambda a, b : a * b\n",
        "print(x(5, 6))"
      ]
    },
    {
      "cell_type": "markdown",
      "metadata": {
        "id": "bcXmEdEB67Q5"
      },
      "source": [
        "nonlocal\n",
        "* Indica que la variable dada sobre la que se trabaja no pertenece localmente a la función anidada dada. Sin embargo, esto no significa que la variable especificada con la palabra clave nonlocal sea una variable global."
      ]
    },
    {
      "cell_type": "code",
      "execution_count": 36,
      "metadata": {
        "colab": {
          "base_uri": "https://localhost:8080/"
        },
        "id": "qsUNI9vg7RVZ",
        "outputId": "25a09303-d278-462e-af1b-b1e13a08008c"
      },
      "outputs": [
        {
          "name": "stdout",
          "output_type": "stream",
          "text": [
            "inner variable value: 2\n",
            "outer variable value: 2\n",
            "global variable value: 0\n"
          ]
        }
      ],
      "source": [
        "a = 0\n",
        "def outr():\n",
        "    a = 1\n",
        "    def innr():\n",
        "        nonlocal a\n",
        "        a = 2\n",
        "        print(\"inner variable value:\", a)\n",
        "    innr()\n",
        "    print(\"outer variable value:\", a)\n",
        "outr()\n",
        "print(\"global variable value:\", a)"
      ]
    },
    {
      "cell_type": "markdown",
      "metadata": {
        "id": "oAm5lrrc67Q5"
      },
      "source": [
        "not\n",
        "* Devuelve el valor opuesto al valor booleano. Si la expresión es True el valor devuelto es False, de lo contrario si la expresión es False el valor devuelto es True."
      ]
    },
    {
      "cell_type": "code",
      "execution_count": 37,
      "metadata": {
        "colab": {
          "base_uri": "https://localhost:8080/"
        },
        "id": "IbSo-X0I7Rrl",
        "outputId": "cacbbc91-8876-4de7-e8ec-9f776127dc8e"
      },
      "outputs": [
        {
          "name": "stdout",
          "output_type": "stream",
          "text": [
            "Amarrillo es:  False\n",
            "Amarrillo es:  True\n",
            "Amarrillo es:  False\n",
            "Amarrillo es:  True\n"
          ]
        }
      ],
      "source": [
        "Amarillo = False\n",
        "for _ in range(4):\n",
        "  print(f\"Amarrillo es:  {Amarillo}\")\n",
        "  if Amarillo:\n",
        "    pass  \n",
        "  else:\n",
        "    pass\n",
        "  Amarillo = not Amarillo"
      ]
    },
    {
      "cell_type": "markdown",
      "metadata": {
        "id": "UfTcf4W167Q5"
      },
      "source": [
        "or\n",
        "* Opera siempre que se cumpla una operación booleana. Si algún valor es verdadero, devuelve ese valor inmediatamente y omite el resto. "
      ]
    },
    {
      "cell_type": "code",
      "execution_count": 38,
      "metadata": {
        "colab": {
          "base_uri": "https://localhost:8080/"
        },
        "id": "fB6zQ0BU7SVT",
        "outputId": "5d9edb3a-56a1-4dd8-d5e0-c71d0eb994fb"
      },
      "outputs": [
        {
          "name": "stdout",
          "output_type": "stream",
          "text": [
            "Adiós mundo\n"
          ]
        }
      ],
      "source": [
        "cal=int(input(\"Ingrese un número entre 1 y 8: \"))\n",
        "if cal==1 or cal==8:\n",
        "  print(\"Hola mundo\")\n",
        "else:\n",
        "  print(\"Adiós mundo\")"
      ]
    },
    {
      "cell_type": "markdown",
      "metadata": {
        "id": "PBFgED7p67Q5"
      },
      "source": [
        "pass\n",
        "* Le indica al programa que ignore esa condición y continúe ejecutando el programa como de costumbre."
      ]
    },
    {
      "cell_type": "code",
      "execution_count": 39,
      "metadata": {
        "colab": {
          "base_uri": "https://localhost:8080/"
        },
        "id": "Yrr2g3jN7S5N",
        "outputId": "32c06e93-cc22-4117-c65a-fa97b5b91baa"
      },
      "outputs": [
        {
          "name": "stdout",
          "output_type": "stream",
          "text": [
            "0\n",
            "1\n",
            "2\n",
            "3\n",
            "4\n",
            "5\n",
            "6\n",
            "7\n",
            "8\n",
            "9\n"
          ]
        }
      ],
      "source": [
        "for i in range(10):\n",
        "    if i % 2 == 0:\n",
        "        pass\n",
        "\n",
        "    print(i)"
      ]
    },
    {
      "cell_type": "code",
      "execution_count": 40,
      "metadata": {
        "colab": {
          "base_uri": "https://localhost:8080/"
        },
        "id": "we4Dytr8kw1p",
        "outputId": "59b90e2d-9b43-452b-af4c-0c5664ac52d5"
      },
      "outputs": [
        {
          "name": "stdout",
          "output_type": "stream",
          "text": [
            "1\n",
            "3\n",
            "5\n",
            "7\n",
            "9\n"
          ]
        }
      ],
      "source": [
        "for i in range(10):\n",
        "    if i % 2 == 0:\n",
        "        continue\n",
        "\n",
        "    print(i)"
      ]
    },
    {
      "cell_type": "markdown",
      "metadata": {
        "id": "1Qqz2qYa67Q5"
      },
      "source": [
        "raise\n",
        "* Se usa para indicar que se ha producido un error o una condición excepcional. La información sobre el error se captura en un objeto de excepción. La función raise se usa para propagar una excepción controlada por la cadena de llamadas."
      ]
    },
    {
      "cell_type": "code",
      "execution_count": 41,
      "metadata": {
        "colab": {
          "base_uri": "https://localhost:8080/"
        },
        "id": "JaZCxT-p7Tni",
        "outputId": "60953118-d5e9-4031-f22d-29369bcf490a"
      },
      "outputs": [
        {
          "name": "stdout",
          "output_type": "stream",
          "text": [
            "num =  4\n"
          ]
        }
      ],
      "source": [
        "num = int(input(\"Ingrese un número positivo: \"))\n",
        "\n",
        "if num<0:\n",
        "    raise Exception(\"Porfavor solo ingrese números positivos (mayores a 0) \")\n",
        "\n",
        "print(\"num = \", num)\n"
      ]
    },
    {
      "cell_type": "code",
      "execution_count": null,
      "metadata": {
        "colab": {
          "base_uri": "https://localhost:8080/",
          "height": 254
        },
        "id": "TVXZ1z06keu9",
        "outputId": "bf5bcacb-5ede-47fb-a138-07242d1e7ce3"
      },
      "outputs": [
        {
          "name": "stdout",
          "output_type": "stream",
          "text": [
            "Ingrese un número positivo: -8\n"
          ]
        },
        {
          "ename": "Exception",
          "evalue": "ignored",
          "output_type": "error",
          "traceback": [
            "\u001b[0;31m---------------------------------------------------------------------------\u001b[0m",
            "\u001b[0;31mException\u001b[0m                                 Traceback (most recent call last)",
            "\u001b[0;32m<ipython-input-83-10a400637f53>\u001b[0m in \u001b[0;36m<module>\u001b[0;34m\u001b[0m\n\u001b[1;32m      2\u001b[0m \u001b[0;34m\u001b[0m\u001b[0m\n\u001b[1;32m      3\u001b[0m \u001b[0;32mif\u001b[0m \u001b[0mnum\u001b[0m\u001b[0;34m<\u001b[0m\u001b[0;36m0\u001b[0m\u001b[0;34m:\u001b[0m\u001b[0;34m\u001b[0m\u001b[0;34m\u001b[0m\u001b[0m\n\u001b[0;32m----> 4\u001b[0;31m     \u001b[0;32mraise\u001b[0m \u001b[0mException\u001b[0m\u001b[0;34m(\u001b[0m\u001b[0;34m\"Porfavor solo ingrese números positivos (mayores a 0) \"\u001b[0m\u001b[0;34m)\u001b[0m\u001b[0;34m\u001b[0m\u001b[0;34m\u001b[0m\u001b[0m\n\u001b[0m\u001b[1;32m      5\u001b[0m \u001b[0;34m\u001b[0m\u001b[0m\n\u001b[1;32m      6\u001b[0m \u001b[0mprint\u001b[0m\u001b[0;34m(\u001b[0m\u001b[0;34m\"num = \"\u001b[0m\u001b[0;34m,\u001b[0m \u001b[0mnum\u001b[0m\u001b[0;34m)\u001b[0m\u001b[0;34m\u001b[0m\u001b[0;34m\u001b[0m\u001b[0m\n",
            "\u001b[0;31mException\u001b[0m: Porfavor solo ingrese números positivos (mayores a 0) "
          ]
        }
      ],
      "source": [
        "num = int(input(\"Ingrese un número positivo: \"))\n",
        "\n",
        "if num<0:\n",
        "    raise Exception(\"Porfavor solo ingrese números positivos (mayores a 0) \")\n",
        "\n",
        "print(\"num = \", num)"
      ]
    },
    {
      "cell_type": "markdown",
      "metadata": {
        "id": "GrnBPJze67Q5"
      },
      "source": [
        "return\n",
        "* Indica el final de la función pero también el valor que devuelve la función. La ejecución del programa continúa tras la llamada a la función."
      ]
    },
    {
      "cell_type": "code",
      "execution_count": 42,
      "metadata": {
        "colab": {
          "base_uri": "https://localhost:8080/"
        },
        "id": "qL1zFe2d7TT7",
        "outputId": "4e1ced8f-42ec-43d6-d637-57c6e8079e53"
      },
      "outputs": [
        {
          "data": {
            "text/plain": [
              "4.0"
            ]
          },
          "execution_count": 42,
          "metadata": {},
          "output_type": "execute_result"
        }
      ],
      "source": [
        "nota1=5\n",
        "nota2=3\n",
        "def promedioDosnotas(nota1,nota2):\n",
        "  promedio=(nota1+nota2)/2\n",
        "  return promedio ##Devuelve el valor de promedio\n",
        "\n",
        "promedioDosnotas(nota1,nota2)"
      ]
    },
    {
      "cell_type": "markdown",
      "metadata": {
        "id": "Rm0G7j0567Q5"
      },
      "source": [
        "try\n",
        "* Es el bloque con las sentencias que quieres ejecutar. Sin embargo, podrían llegar a haber errores de ejecución y el bloque se dejará de ejecutarse."
      ]
    },
    {
      "cell_type": "code",
      "execution_count": 43,
      "metadata": {
        "colab": {
          "base_uri": "https://localhost:8080/"
        },
        "id": "kyqKlL_q7UyK",
        "outputId": "d2eb212a-70d9-4879-c824-3d56b73f79a9"
      },
      "outputs": [
        {
          "name": "stdout",
          "output_type": "stream",
          "text": [
            "2.0\n",
            "3.605551275463989\n",
            "10.0\n",
            "Error: No se puede calcular la raíz cuadrada de -1\n",
            "5.0\n"
          ]
        }
      ],
      "source": [
        "import math\n",
        "\n",
        "def RaizCuadrada(numero):\n",
        "  try:\n",
        "    return math.sqrt(numero)\n",
        "  except ValueError:\n",
        "    return 'Error: No se puede calcular la raíz cuadrada de ' + str(numero)\n",
        "\n",
        "print(RaizCuadrada(4))\n",
        "print(RaizCuadrada(13))\n",
        "print(RaizCuadrada(100))\n",
        "print(RaizCuadrada(-1))\n",
        "print(RaizCuadrada(25))"
      ]
    },
    {
      "cell_type": "markdown",
      "metadata": {
        "id": "rzOtJ-m967Q6"
      },
      "source": [
        "while\n",
        "* El bucle while evalúa una condición y luego ejecuta un bloque de código si la condición es verdadera. El bloque de código se ejecuta repetidamente hasta que la condición llega ser o es falsa."
      ]
    },
    {
      "cell_type": "code",
      "execution_count": 44,
      "metadata": {
        "id": "AVC7cRTD7VNx"
      },
      "outputs": [
        {
          "name": "stdout",
          "output_type": "stream",
          "text": [
            "0\n",
            "1\n",
            "2\n",
            "3\n",
            "4\n",
            "5\n",
            "6\n",
            "7\n",
            "8\n",
            "9\n"
          ]
        }
      ],
      "source": [
        "contador=0\n",
        "while contador!=10:\n",
        "  print(contador)\n",
        "  contador+=1"
      ]
    },
    {
      "cell_type": "markdown",
      "metadata": {
        "id": "QtMfvLJT67Q6"
      },
      "source": [
        "with\n",
        "* Se usa para ajustar la ejecución de un bloque con métodos definidos por un administrador de contexto."
      ]
    },
    {
      "cell_type": "code",
      "execution_count": 45,
      "metadata": {
        "id": "0CknETRS7Vw6"
      },
      "outputs": [],
      "source": [
        "with open ('files.txt','w') as file:\n",
        "  file.write(\"Hola mundo\")\n",
        "\n",
        "##Al usar with en combinación con open se pueden crear o abrir documentos de diversos formatos\n",
        "##Al usar el atributo w se pone en modo escribir\n",
        "##Mientras que al usar el atributo r se pone en modo leer\n",
        "##Esto documentos se guardan junto al programa en cuestion, excepto cuando se especifica una ruta"
      ]
    },
    {
      "cell_type": "markdown",
      "metadata": {
        "id": "jUI52PxO67Q6"
      },
      "source": [
        "yield\n",
        "* Es la declaración que se utiliza para crear funciones generadoras. Es capaz de retornar sus miembros uno a la vez. Entre los iterables se encuentran estructuras de secuencia como son: strings."
      ]
    },
    {
      "cell_type": "code",
      "execution_count": 46,
      "metadata": {
        "colab": {
          "base_uri": "https://localhost:8080/"
        },
        "id": "fzAdLqg-7WHB",
        "outputId": "40558651-75f6-4e61-a992-224aa5eb721c"
      },
      "outputs": [
        {
          "name": "stdout",
          "output_type": "stream",
          "text": [
            "new value is generated!\n",
            "Value = 1\n",
            "new value is generated!\n",
            "Value = 2\n"
          ]
        }
      ],
      "source": [
        "def my_generator():\n",
        "    for x in range(1, 100):\n",
        "        print(\"new value is generated!\")\n",
        "        yield x\n",
        "gen_iter = my_generator()\n",
        "val = next(gen_iter)\n",
        "print(\"Value =\", val)\n",
        "\n",
        "val = gen_iter.__next__()\n",
        "print(\"Value =\", val)"
      ]
    }
  ],
  "metadata": {
    "colab": {
      "collapsed_sections": [],
      "provenance": []
    },
    "kernelspec": {
      "display_name": "Python 3.10.6 64-bit",
      "language": "python",
      "name": "python3"
    },
    "language_info": {
      "codemirror_mode": {
        "name": "ipython",
        "version": 3
      },
      "file_extension": ".py",
      "mimetype": "text/x-python",
      "name": "python",
      "nbconvert_exporter": "python",
      "pygments_lexer": "ipython3",
      "version": "3.10.6"
    },
    "orig_nbformat": 4,
    "vscode": {
      "interpreter": {
        "hash": "1cd17f5141b21e2ef08553ce546070aafbc3c3871eba7bcf9fa425af824b01f9"
      }
    }
  },
  "nbformat": 4,
  "nbformat_minor": 0
}
