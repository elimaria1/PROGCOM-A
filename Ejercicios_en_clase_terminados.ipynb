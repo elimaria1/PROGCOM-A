{
  "nbformat": 4,
  "nbformat_minor": 0,
  "metadata": {
    "colab": {
      "name": "Ejercicios en clase terminados",
      "provenance": []
    },
    "kernelspec": {
      "name": "python3",
      "display_name": "Python 3"
    },
    "language_info": {
      "name": "python"
    }
  },
  "cells": [
    {
      "cell_type": "markdown",
      "source": [
        "#ELIANA MARÍA CORTÉS CHACÓN Y SILVIA NATALIA JAIMES BARÓN"
      ],
      "metadata": {
        "id": "DsY6uckfAhXa"
      }
    },
    {
      "cell_type": "markdown",
      "source": [
        "Ejercicio 1"
      ],
      "metadata": {
        "id": "Bsh3DIyAzpwE"
      }
    },
    {
      "cell_type": "code",
      "source": [
        "##Definir si un número es primo usando for\n",
        "class Counter:\n",
        "    contador=0\n",
        "print(\"Se definirá si un número es primo usando ciclo for\")\n",
        "num=int(input(\"Ingrese un número entero: \"))\n",
        "if num==0:\n",
        "    print(\"El número es cero\")\n",
        "elif num==1:\n",
        "    print(\"El número 1 es primo\")\n",
        "elif num==2:\n",
        "    print(\"El número 2 es primo\")\n",
        "elif num==3:\n",
        "    print(\"El número 3 es primo\")\n",
        "elif num==5:\n",
        "    print(\"El número 5 es primo\")\n",
        "elif num==7:\n",
        "    print(\"El número 7 es primo\")\n",
        "elif num<0:\n",
        "    print(\"No se aceptan números negativos\")\n",
        "else:\n",
        "    for n in range(2,8):\n",
        "        if (num%n)==0:\n",
        "            Counter.contador+=1\n",
        "    if Counter.contador>=1:\n",
        "        print(\"El número\",num,\"no es primo\")\n",
        "    else:\n",
        "        print(\"El número\",num,\"es primo\")"
      ],
      "metadata": {
        "colab": {
          "base_uri": "https://localhost:8080/"
        },
        "id": "v1KOA6OIzrGV",
        "outputId": "2a3b4628-e53b-438a-b562-0bc7b8d08e1c"
      },
      "execution_count": 5,
      "outputs": [
        {
          "output_type": "stream",
          "name": "stdout",
          "text": [
            "Se definirá si un número es primo usando ciclo while\n",
            "Ingrese un número entero: 5\n",
            "El número 5 es primo\n"
          ]
        }
      ]
    },
    {
      "cell_type": "code",
      "source": [
        "##Definir si un número es primo usando while\n",
        "class Counter:\n",
        "    contador=0\n",
        "    iterador=2\n",
        "print(\"Se definirá si un número es primo usando ciclo while\")\n",
        "num=int(input(\"Ingrese un número entero: \"))\n",
        "if num==0:\n",
        "    print(\"El número es cero\")\n",
        "elif num==1:\n",
        "    print(\"El número 1 es primo\")\n",
        "elif num==2:\n",
        "    print(\"El número 2 es primo\")\n",
        "elif num==3:\n",
        "    print(\"El número 3 es primo\")\n",
        "elif num==5:\n",
        "    print(\"El número 5 es primo\")\n",
        "elif num==7:\n",
        "    print(\"El número 7 es primo\")\n",
        "elif num<0:\n",
        "    print(\"No se aceptan números negativos\")\n",
        "else:\n",
        "    while Counter.iterador!=8:\n",
        "        if (num%Counter.iterador)==0:\n",
        "            Counter.contador+=1\n",
        "        Counter.iterador+=1\n",
        "    if Counter.contador>=1:\n",
        "        print(\"El número\",num,\"no es primo\")\n",
        "    else:\n",
        "        print(\"El número\",num,\"es primo\")"
      ],
      "metadata": {
        "colab": {
          "base_uri": "https://localhost:8080/"
        },
        "id": "3h0mLUx0zvte",
        "outputId": "09f69954-b0f0-4a7b-ba19-7d2e1f7b5ce8"
      },
      "execution_count": 6,
      "outputs": [
        {
          "output_type": "stream",
          "name": "stdout",
          "text": [
            "Se definirá si un número es primo usando ciclo while\n",
            "Ingrese un número entero: 6\n",
            "El número 6 no es primo\n"
          ]
        }
      ]
    },
    {
      "cell_type": "markdown",
      "source": [
        "Ejercicio 2"
      ],
      "metadata": {
        "id": "mxAeTxYn3OYh"
      }
    },
    {
      "cell_type": "code",
      "source": [
        "#Secuencia de Fibonachi con While\n",
        "c=1\n",
        "b=29\n",
        "p=0\n",
        "s=1\n",
        "sum=0\n",
        "\n",
        "print(\"Secuencia de Fibonacchi: \")\n",
        "while(c<=b):    \n",
        "  c+=1\n",
        "  f=s\n",
        "  s=sum\n",
        "  sum=f+s\t\n",
        "  print(sum)"
      ],
      "metadata": {
        "colab": {
          "base_uri": "https://localhost:8080/"
        },
        "id": "wvy6vWX93Prv",
        "outputId": "b8fad195-e721-40c5-a112-952e55c9bf85"
      },
      "execution_count": 17,
      "outputs": [
        {
          "output_type": "stream",
          "name": "stdout",
          "text": [
            "Secuencia de Fibonacchi: \n",
            "1\n",
            "1\n",
            "2\n",
            "3\n",
            "5\n",
            "8\n",
            "13\n",
            "21\n",
            "34\n",
            "55\n",
            "89\n",
            "144\n",
            "233\n",
            "377\n",
            "610\n",
            "987\n",
            "1597\n",
            "2584\n",
            "4181\n",
            "6765\n",
            "10946\n",
            "17711\n",
            "28657\n",
            "46368\n",
            "75025\n",
            "121393\n",
            "196418\n",
            "317811\n",
            "514229\n"
          ]
        }
      ]
    },
    {
      "cell_type": "code",
      "source": [
        "#Secuencia de Fibonachi con For\n",
        "c=1\n",
        "b=0\n",
        "p=0\n",
        "s=1\n",
        "sum=0\n",
        "\n",
        "print(\"Secuencia de Fibonacchi: \")\n",
        "for c in range(0,30):  \n",
        "  print(sum) \n",
        "  c+=1\n",
        "  f=s\n",
        "  s=sum\n",
        "  sum=f+s"
      ],
      "metadata": {
        "colab": {
          "base_uri": "https://localhost:8080/"
        },
        "id": "KQzvxYDo6uPf",
        "outputId": "94fac610-d058-4587-9ed6-6c2b8c0832bf"
      },
      "execution_count": 16,
      "outputs": [
        {
          "output_type": "stream",
          "name": "stdout",
          "text": [
            "Secuencia de Fibonacchi: \n",
            "0\n",
            "1\n",
            "1\n",
            "2\n",
            "3\n",
            "5\n",
            "8\n",
            "13\n",
            "21\n",
            "34\n",
            "55\n",
            "89\n",
            "144\n",
            "233\n",
            "377\n",
            "610\n",
            "987\n",
            "1597\n",
            "2584\n",
            "4181\n",
            "6765\n",
            "10946\n",
            "17711\n",
            "28657\n",
            "46368\n",
            "75025\n",
            "121393\n",
            "196418\n",
            "317811\n",
            "514229\n"
          ]
        }
      ]
    },
    {
      "cell_type": "markdown",
      "source": [
        "Ejercicio 3"
      ],
      "metadata": {
        "id": "JJbJ7BOJvAgy"
      }
    },
    {
      "cell_type": "code",
      "source": [
        "##Factorial Con While\n",
        "print(\"Se va a calcular el factorial de un número usando ciclo while\")\n",
        "num=int(input(\"ingrese un número entero: \"))\n",
        "res=1\n",
        "numR=num\n",
        "if num==0:\n",
        "    print(\"El factorial de 0 es: 0\")\n",
        "elif num==1:\n",
        "    print(\"El factorial de 1 es: 1\")\n",
        "elif num<0:\n",
        "    print(\"No existe factorial para números negativos\")\n",
        "else:\n",
        "    while num!=0:\n",
        "        res=res*num\n",
        "        num=num-1\n",
        "    print(\"El factorial del número\",numR,\"es:\",res)"
      ],
      "metadata": {
        "id": "oMvsyNAE8Tho",
        "colab": {
          "base_uri": "https://localhost:8080/"
        },
        "outputId": "0de0e18f-4da5-4e91-ef8d-f419fee57f8d"
      },
      "execution_count": 10,
      "outputs": [
        {
          "output_type": "stream",
          "name": "stdout",
          "text": [
            "Se va a calcular el factorial de un número usando ciclo while\n",
            "ingrese un número entero: 7\n",
            "El factorial del número 7 es: 5040\n"
          ]
        }
      ]
    },
    {
      "cell_type": "code",
      "source": [
        "##Factorial Con for\n",
        "print(\"Se va a calcular el factorial de un número usando ciclo for\")\n",
        "num=int(input(\"Ingrese un número entero: \"))\n",
        "numR=num\n",
        "res=1\n",
        "if num==0:\n",
        "    print(\"El factorial de 0 es: 0\")\n",
        "elif num==1:\n",
        "    print(\"El factorial de 1 es: 1\")\n",
        "elif num<0:\n",
        "    print(\"No existe factorial para números negativos\")\n",
        "else:\n",
        "    for j in range(num,0,-1):\n",
        "        res=res*j\n",
        "    print(\"El factorial del número\",numR,\"es:\",res)"
      ],
      "metadata": {
        "colab": {
          "base_uri": "https://localhost:8080/"
        },
        "id": "jdKYRNuI2yMX",
        "outputId": "f3909257-ff32-4d0f-ed79-568c684298b5"
      },
      "execution_count": 9,
      "outputs": [
        {
          "output_type": "stream",
          "name": "stdout",
          "text": [
            "Se va a calcular el factorial de un número usando ciclo for\n",
            "Ingrese un número entero: 4\n",
            "El factorial del número 4 es: 24\n"
          ]
        }
      ]
    },
    {
      "cell_type": "markdown",
      "source": [
        "Ejercicio 4"
      ],
      "metadata": {
        "id": "EYssO3pv5hQu"
      }
    },
    {
      "cell_type": "code",
      "source": [
        "##Factorial Con While\n",
        "print(\"Se va a calcular el factorial de 10 numeros usando ciclo while\")\n",
        "res=1\n",
        "contador=0\n",
        "while contador!=10:\n",
        "    num=int(input(\"ingrese un número entero: \"))\n",
        "    numR=num\n",
        "    if num==0:\n",
        "        print(\"El factorial de 0 es: 0\")\n",
        "    elif num==1:\n",
        "        print(\"El factorial de 1 es: 1\")\n",
        "    elif num<0:\n",
        "        print(\"No existe factorial para números negativos\")\n",
        "    else:\n",
        "        while num!=0:\n",
        "            res=res*num\n",
        "            num=num-1\n",
        "        print(\"El factorial del número\",numR,\"es:\",res)\n",
        "        res=1\n",
        "    contador=contador+1"
      ],
      "metadata": {
        "colab": {
          "base_uri": "https://localhost:8080/"
        },
        "id": "G7w4a6sw5ive",
        "outputId": "7a70f33e-2f15-4bc3-aa9b-bb51ab63339d"
      },
      "execution_count": 13,
      "outputs": [
        {
          "output_type": "stream",
          "name": "stdout",
          "text": [
            "Se va a calcular el factorial de 10 numeros usando ciclo while\n",
            "ingrese un número entero: 5\n",
            "El factorial del número 5 es: 120\n",
            "ingrese un número entero: 6\n",
            "El factorial del número 6 es: 720\n",
            "ingrese un número entero: 4\n",
            "El factorial del número 4 es: 24\n",
            "ingrese un número entero: 8\n",
            "El factorial del número 8 es: 40320\n",
            "ingrese un número entero: 12\n",
            "El factorial del número 12 es: 479001600\n",
            "ingrese un número entero: 1\n",
            "El factorial de 1 es: 1\n",
            "ingrese un número entero: 2\n",
            "El factorial del número 2 es: 2\n",
            "ingrese un número entero: 3\n",
            "El factorial del número 3 es: 6\n",
            "ingrese un número entero: 25\n",
            "El factorial del número 25 es: 15511210043330985984000000\n",
            "ingrese un número entero: 9\n",
            "El factorial del número 9 es: 362880\n"
          ]
        }
      ]
    },
    {
      "cell_type": "code",
      "source": [
        "##Factorial Con for\n",
        "print(\"Se va a calcular el factorial de 10 numeros usando ciclo while\")\n",
        "res=1\n",
        "\n",
        "for n in range(1,11):\n",
        "    num=int(input(\"ingrese un número entero: \"))\n",
        "    numR=num\n",
        "    if num==0:\n",
        "        print(\"El factorial de 0 es: 0\")\n",
        "    elif num==1:\n",
        "        print(\"El factorial de 1 es: 1\")\n",
        "    elif num<0:\n",
        "        print(\"No existe factorial para números negativos\")\n",
        "    else:\n",
        "        while num!=0:\n",
        "            res=res*num\n",
        "            num=num-1\n",
        "        print(\"El factorial del número\",numR,\"es:\",res)\n",
        "        res=1\n",
        "    print(n)"
      ],
      "metadata": {
        "colab": {
          "base_uri": "https://localhost:8080/"
        },
        "id": "4UPLsfzl5x2m",
        "outputId": "197d2ae8-1e22-4f24-ee17-1e7927f468dd"
      },
      "execution_count": 14,
      "outputs": [
        {
          "output_type": "stream",
          "name": "stdout",
          "text": [
            "Se va a calcular el factorial de 10 numeros usando ciclo while\n",
            "ingrese un número entero: 8\n",
            "El factorial del número 8 es: 40320\n",
            "1\n",
            "ingrese un número entero: 7\n",
            "El factorial del número 7 es: 5040\n",
            "2\n",
            "ingrese un número entero: 5\n",
            "El factorial del número 5 es: 120\n",
            "3\n",
            "ingrese un número entero: 6\n",
            "El factorial del número 6 es: 720\n",
            "4\n",
            "ingrese un número entero: 11\n",
            "El factorial del número 11 es: 39916800\n",
            "5\n",
            "ingrese un número entero: 16\n",
            "El factorial del número 16 es: 20922789888000\n",
            "6\n",
            "ingrese un número entero: 9\n",
            "El factorial del número 9 es: 362880\n",
            "7\n",
            "ingrese un número entero: 5\n",
            "El factorial del número 5 es: 120\n",
            "8\n",
            "ingrese un número entero: 3\n",
            "El factorial del número 3 es: 6\n",
            "9\n",
            "ingrese un número entero: 10\n",
            "El factorial del número 10 es: 3628800\n",
            "10\n"
          ]
        }
      ]
    },
    {
      "cell_type": "markdown",
      "source": [
        "Ejercicio 7 corrección"
      ],
      "metadata": {
        "id": "GilEHHh2vGx4"
      }
    },
    {
      "cell_type": "code",
      "source": [
        "##Calcular la suma de los números usando for\n",
        "print(\"Se va a calcular la suma de los números de 0 a 100 tomando intervalos de 10 unidades\")\n",
        "suma=0\n",
        "for j in range(0,101,10):\n",
        "    suma=suma+j\n",
        "print(suma)"
      ],
      "metadata": {
        "colab": {
          "base_uri": "https://localhost:8080/"
        },
        "id": "CD-ldaLdvJqW",
        "outputId": "1390df99-fc0d-42c6-d0a9-b86dc7309732"
      },
      "execution_count": 7,
      "outputs": [
        {
          "output_type": "stream",
          "name": "stdout",
          "text": [
            "Se va a calcular la suma de los números de 0 a 100 tomando intervalos de 10 unidades\n",
            "550\n"
          ]
        }
      ]
    },
    {
      "cell_type": "code",
      "source": [
        "##Calcular la suma de los números usando while\n",
        "print(\"Se va a calcular la suma de los números de 0 a 100 tomando intervalos de 10 unidades\")\n",
        "suma=0\n",
        "ite=0\n",
        "while ite!=110:\n",
        "    suma=suma+ite\n",
        "    ite+=10\n",
        "print(suma)"
      ],
      "metadata": {
        "colab": {
          "base_uri": "https://localhost:8080/"
        },
        "id": "MidqM29Mve59",
        "outputId": "c6718668-56f7-48a7-aa22-91f298d4f48b"
      },
      "execution_count": 8,
      "outputs": [
        {
          "output_type": "stream",
          "name": "stdout",
          "text": [
            "Se va a calcular la suma de los números de 0 a 100 tomando intervalos de 10 unidades\n",
            "550\n"
          ]
        }
      ]
    },
    {
      "cell_type": "markdown",
      "source": [
        "Ejercicio 9"
      ],
      "metadata": {
        "id": "vh9QKlRoA3uh"
      }
    },
    {
      "cell_type": "code",
      "source": [
        "##Se calculará la serie con ciclo for\n",
        "N=int(input(\"Ingrese la cantidad de repeticiones para la serie: \"))\n",
        "num=2\n",
        "den=1\n",
        "rep=1\n",
        "lista=['2/1','+']\n",
        "for s in range(1,N):\n",
        "    num=num+2\n",
        "    den=den+2\n",
        "    lista.append(str(num)+'/'+str(den))\n",
        "    if s!=N-1:\n",
        "        lista.append('+')\n",
        "print(lista)"
      ],
      "metadata": {
        "colab": {
          "base_uri": "https://localhost:8080/"
        },
        "id": "uL7TUPDhA5ZE",
        "outputId": "6b0b2e25-28aa-4b56-dc77-a497c8b09f29"
      },
      "execution_count": 18,
      "outputs": [
        {
          "output_type": "stream",
          "name": "stdout",
          "text": [
            "Ingrese la cantidad de repeticiones para la serie: 3\n",
            "['2/1', '+', '4/3', '+', '6/5']\n"
          ]
        }
      ]
    },
    {
      "cell_type": "code",
      "source": [
        "##Se calculará la serie con ciclo while\n",
        "N=int(input(\"Ingrese la cantidad de repeticiones para la serie: \"))\n",
        "num=2\n",
        "den=1\n",
        "rep=1\n",
        "lista=['2/1','+']\n",
        "while rep!=N:\n",
        "    num=num+2\n",
        "    den=den+2\n",
        "    rep+=1\n",
        "    lista.append(str(num)+'/'+str(den))\n",
        "    if rep!=N:\n",
        "        lista.append('+')\n",
        "print(lista)"
      ],
      "metadata": {
        "colab": {
          "base_uri": "https://localhost:8080/"
        },
        "id": "W2kZh1ePBAds",
        "outputId": "560b5ad7-a6bc-4a8e-805c-a9abeb492158"
      },
      "execution_count": 19,
      "outputs": [
        {
          "output_type": "stream",
          "name": "stdout",
          "text": [
            "Ingrese la cantidad de repeticiones para la serie: 6\n",
            "['2/1', '+', '4/3', '+', '6/5', '+', '8/7', '+', '10/9', '+', '12/11']\n"
          ]
        }
      ]
    }
  ]
}