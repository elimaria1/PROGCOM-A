{
 "cells": [
  {
   "cell_type": "code",
   "execution_count": 17,
   "metadata": {},
   "outputs": [],
   "source": [
    "from sympy import *\n",
    "from sympy.parsing.sympy_parser import parse_expr\n",
    "from tkinter import *\n",
    "        \n",
    "def integral():\n",
    "    try:\n",
    "        x = symbols('x')\n",
    "        fun_escrita2 = funcion.get()\n",
    "        g = parse_expr(fun_escrita2)\n",
    "        integral = integrate(g,x)\n",
    "        etiqueta.configure(text=integral)\n",
    "    except:\n",
    "        etiqueta.configure(text=\"Error. Introduce la función correctamente.\")\n",
    "\n",
    "def Intervalo():\n",
    "    try:\n",
    "        x = symbols('x')\n",
    "        fun_escrita2 = funcion.get()\n",
    "        x1_escrita= x1.get()\n",
    "        x2_escrita= x2.get()\n",
    "        g = parse_expr(fun_escrita2)\n",
    "        integral = integrate(g,(x,x1_escrita,x2_escrita))\n",
    "        etiqueta.configure(text=integral)\n",
    "    except:\n",
    "        etiqueta.configure(text=\"Error. Introduce la función correctamente.\")\n",
    "\n",
    "ventana = Tk()\n",
    "ventana.geometry('400x300')\n",
    "ventana.title(\"Calculadora integrales\")\n",
    "\n",
    "anuncio = Label(ventana, text=\"Introduzca una función\", font=(\"Arial\", 15), fg=\"black\")\n",
    "anuncio.pack()\n",
    "\n",
    "funcion = Entry(ventana, font=(\"Arial\", 15))\n",
    "funcion.pack()\n",
    "\n",
    "etiqueta = Label(ventana, text=\"Ingrese el límite inferior\", font=(\"Calibri\", 17), fg=\"blue\")\n",
    "etiqueta.pack()\n",
    "\n",
    "x1 = Entry(ventana, font=(\"Arial\", 15))\n",
    "x1.pack()\n",
    "\n",
    "etiqueta = Label(ventana, text=\"Ingrese el límite superior\", font=(\"Calibri\", 17), fg=\"blue\")\n",
    "etiqueta.pack()\n",
    "\n",
    "x2 = Entry(ventana, font=(\"Arial\", 15))\n",
    "x2.pack()\n",
    "\n",
    "etiqueta = Label(ventana, text=\"Resultado\", font=(\"Calibri\", 17), fg=\"purple\")\n",
    "etiqueta.pack()\n",
    "\n",
    "boton2 = Button(ventana, text=\"Integrar Función\", font=(\"Arial\", 15), command=integral, fg=(\"grey\"))\n",
    "boton2.pack()\n",
    "\n",
    "button3 = Button(master=ventana, text=\"Integrar función en un intervalo\", font=(\"Arial\", 15), command=Intervalo, fg=(\"grey\"))\n",
    "button3.pack()\n",
    "\n",
    "ventana.mainloop()"
   ]
  }
 ],
 "metadata": {
  "kernelspec": {
   "display_name": "Python 3.10.6 64-bit",
   "language": "python",
   "name": "python3"
  },
  "language_info": {
   "codemirror_mode": {
    "name": "ipython",
    "version": 3
   },
   "file_extension": ".py",
   "mimetype": "text/x-python",
   "name": "python",
   "nbconvert_exporter": "python",
   "pygments_lexer": "ipython3",
   "version": "3.10.6"
  },
  "orig_nbformat": 4,
  "vscode": {
   "interpreter": {
    "hash": "1cd17f5141b21e2ef08553ce546070aafbc3c3871eba7bcf9fa425af824b01f9"
   }
  }
 },
 "nbformat": 4,
 "nbformat_minor": 2
}
