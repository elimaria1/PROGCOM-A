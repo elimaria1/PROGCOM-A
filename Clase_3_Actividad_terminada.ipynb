{
  "nbformat": 4,
  "nbformat_minor": 0,
  "metadata": {
    "colab": {
      "name": "Clase 3 Actividad terminada",
      "provenance": []
    },
    "kernelspec": {
      "name": "python3",
      "display_name": "Python 3"
    },
    "language_info": {
      "name": "python"
    }
  },
  "cells": [
    {
      "cell_type": "markdown",
      "source": [
        "##Ejercicio 3 corrección"
      ],
      "metadata": {
        "id": "160IFEK6VSQW"
      }
    },
    {
      "cell_type": "code",
      "source": [
        "nm1=input(\"Hermano 1 ingrese su nombre: \")\n",
        "mano1=int(input(\"Ingrese su edad: \"))\n",
        "nm2=input(\"Hermano 2 ingrese su nombre: \")\n",
        "mano2=int(input(\"Ingrese su edad: \"))\n",
        "nm3=input(\"Hermano 3 ingrese su nombre: \")\n",
        "mano3=int(input(\"Ingrese su edad: \"))\n",
        "if mano1<mano2 and mano1<mano3 and mano2<mano3:\n",
        "  nmpequeño=nm1\n",
        "  pequeño=mano1\n",
        "  nmediano=nm2\n",
        "  mediano=mano2\n",
        "  nmgrande=nm3\n",
        "  grande=mano3\n",
        "elif mano1<mano2 and mano1<mano3 and mano3<mano2:\n",
        "  nmpequeño=nm1\n",
        "  pequeño=mano1\n",
        "  nmediano=nm3\n",
        "  mediano=mano3\n",
        "  nmgrande=nm2\n",
        "  grande=mano2\n",
        "elif mano2<mano1 and mano2<mano3 and mano3<mano1:\n",
        "  nmpequeño=nm2\n",
        "  pequeño=mano2\n",
        "  nmediano=nm3\n",
        "  mediano=mano3\n",
        "  nmgrande=nm1\n",
        "  grande=mano1\n",
        "elif mano3<mano1 and mano3<mano2 and mano2>mano1:\n",
        "  nmpequeño=nm3\n",
        "  pequeño=mano3\n",
        "  nmediano=nm1\n",
        "  mediano=mano1\n",
        "  nmgrande=nm2\n",
        "  grande=mano2\n",
        "print(\"El hermano menor es\",nmpequeño,pequeño)\n",
        "print(\"El hermano del medio es\",nmediano,mediano)\n",
        "print(\"El hermano mayor es\",nmgrande,grande)"
      ],
      "metadata": {
        "colab": {
          "base_uri": "https://localhost:8080/"
        },
        "id": "Oz2sC5BsHuAB",
        "outputId": "f9c279b4-ac99-44af-d794-d3b2a9f09882"
      },
      "execution_count": null,
      "outputs": [
        {
          "output_type": "stream",
          "name": "stdout",
          "text": [
            "Hermano 1 ingrese su nombre: Juan\n",
            "Ingrese su edad: 13\n",
            "Hermano 2 ingrese su nombre: Jaime\n",
            "Ingrese su edad: 22\n",
            "Hermano 3 ingrese su nombre: Eliana\n",
            "Ingrese su edad: 17\n",
            "El hermano menor es Juan 13\n",
            "El hermano del medio es Eliana 17\n",
            "El hermano mayor es Jaime 22\n"
          ]
        }
      ]
    },
    {
      "cell_type": "markdown",
      "source": [
        "##Ejercicio 4"
      ],
      "metadata": {
        "id": "UeiYRsHrVSVo"
      }
    },
    {
      "cell_type": "code",
      "source": [
        "print(\"Se establecerá si usted debe pagar impuesto de renta, por favor responda Si(S) o No(N) a las siguientes preguntas\")\n",
        "p1=str(input(\"Su patrimonio bruto al término del año 2021 fue igual o superior a $163.386.000? (S/N):\\n\"))\n",
        "p2=str(input(\"Su ingreso total al término del año 2021 fue igual o superior a $50.831.000? (S/N):\\n\"))\n",
        "p3=str(input(\"Tiene tarjeta de crédito? (S/N):\\n\"))\n",
        "if p3.upper()==\"S\":\n",
        "    p4=str(input(\"Los consumos mediante tarjeta de crédito fueron iguales o superiores a $50.831.000? (S/N):\\n\"))\n",
        "p5=str(input(\"El valor total de compras y consumos fue igual o superior a $50.831.000? (S/N):\\n\"))\n",
        "p6=str(input(\"El valor total acumulado de consignaciones bancarias, depósitos o inversiones financieras fue igual o superior a $50.831.000? (S/N):\\n\"))\n",
        "if p1.upper()=='S' or p2.upper()=='S' or p3.upper()=='S' or p4.upper()=='S' or p5.upper()=='S' or p6.upper()=='S':\n",
        "    print(\"Usted debe declarar el impuesto de renta 2022\")\n",
        "else:\n",
        "    print(\"Usted no debe declarar el impuesto de renta 2022\")"
      ],
      "metadata": {
        "colab": {
          "base_uri": "https://localhost:8080/"
        },
        "id": "ZrQFGLcBFQZM",
        "outputId": "29b40758-c3ea-4ca3-dc7c-1a13d8d0c1ff"
      },
      "execution_count": null,
      "outputs": [
        {
          "output_type": "stream",
          "name": "stdout",
          "text": [
            "Se establecerá si usted debe pagar impuesto de renta, por favor responda Si(S) o No(N) a las siguientes preguntas\n",
            "Su patrimonio bruto al término del año 2021 fue igual o superior a $163.386.000? (S/N):\n",
            "N\n",
            "Su ingreso total al término del año 2021 fue igual o superior a $50.831.000? (S/N):\n",
            "S\n",
            "Tiene tarjeta de crédito? (S/N):\n",
            "S\n",
            "Los consumos mediante tarjeta de crédito fueron iguales o superiores a $50.831.000? (S/N):\n",
            "N\n",
            "El valor total de compras y consumos fue igual o superior a $50.831.000? (S/N):\n",
            "N\n",
            "El valor total acumulado de consignaciones bancarias, depósitos o inversiones financieras fue igual o superior a $50.831.000? (S/N):\n",
            "S\n",
            "Usted debe declarar el impuesto de renta 2022\n"
          ]
        }
      ]
    },
    {
      "cell_type": "markdown",
      "source": [
        "##Ejercicio 5"
      ],
      "metadata": {
        "id": "JmdjUvKbV1qP"
      }
    },
    {
      "cell_type": "code",
      "source": [
        "print(\"Por favor ingrese su código de estudiante: \")\n",
        "cod=str(input(\"\"))\n",
        "rev=list(cod.upper())\n",
        "clase1=\"\"\n",
        "if len(rev)==9:\n",
        "    for n in range (1,9):\n",
        "        contador=0\n",
        "        for s in range (1,9):\n",
        "            if rev[s].isdigit()==True:\n",
        "              contador=contador+1\n",
        "def carrera():\n",
        "    for j in range(0,9):\n",
        "            if int(rev[7])==2 and int(rev[8])==6:\n",
        "                clase1=\"Ingeniero Electrónico\"\n",
        "            elif int(rev[7])==3 and int(rev[8])==2:\n",
        "                clase1=\"Ingeniero de Sistemas\"\n",
        "            elif int(rev[7])==5 and int(rev[8])==0:\n",
        "                clase1=\"Ingeniero en Administración De Empresas\"\n",
        "            else:\n",
        "                clase1=\"\"\n",
        "    print(clase1)\n",
        "if int(rev[1])>=1 and int(rev[2])==9 and int(rev[3])>=5 and int(rev[4])>0:\n",
        "    clase=\"Estudiante UIS\"\n",
        "    carrera()\n",
        "if rev[0]=='U' and contador==8 and int(rev[1])!=1 and int(rev[3])!=9:\n",
        "    clase=\"Estudiante UNAB\"\n",
        "    carrera()\n",
        "if rev[0]=='A' and int(rev[1])==0 and int(rev[2])==0 and int(rev[3])==0:\n",
        "    clase=\"Estudiante ANDES\"\n",
        "    carrera()\n",
        "print(clase)"
      ],
      "metadata": {
        "colab": {
          "base_uri": "https://localhost:8080/"
        },
        "id": "4-q4fJQXAdT7",
        "outputId": "aff5df11-aa2f-43b5-d968-d6f147d0266e"
      },
      "execution_count": null,
      "outputs": [
        {
          "output_type": "stream",
          "name": "stdout",
          "text": [
            "Por favor ingrese su código de estudiante: \n",
            "U00156771\n",
            "\n",
            "Estudiante UNAB\n"
          ]
        }
      ]
    },
    {
      "cell_type": "markdown",
      "source": [
        "##Ejercicio 6"
      ],
      "metadata": {
        "id": "S5pwO7-sV2V1"
      }
    },
    {
      "cell_type": "code",
      "source": [
        "print(\"Ingrese sus 4 notas para calcular su promedio: \")\n",
        "prom=0\n",
        "for n in range(0,4):\n",
        "    s=float(input(\"Ingrese su nota: \"))\n",
        "    prom=prom+s\n",
        "promF=prom/4\n",
        "if promF>=4.5:\n",
        "    print(\"Se encuentra eximido del examen final debido a que su promedio es de: \",promF)\n",
        "elif promF>=3.5 and promF<4.5:\n",
        "    print(\"Debe presentar el examen final debido a que su promedio es de: \",promF)\n",
        "elif promF>=3 and promF<3.5:\n",
        "    print(\"Debe presentar el examen final y un trabajo adicional debido a que su promedio es de: \",prom)\n",
        "elif promF>2 and promF<3:\n",
        "    print(\"Debe presentarse a habilitacion debido a que su promedio es de: \",promF)\n",
        "elif promF<=2:\n",
        "    print(\"Ha reprobado la materia debido a que su promedio es de: \",promF)"
      ],
      "metadata": {
        "colab": {
          "base_uri": "https://localhost:8080/"
        },
        "id": "8HPbJFX6EEs5",
        "outputId": "71ea4d08-ad88-4bc1-cc74-15c691929db5"
      },
      "execution_count": 1,
      "outputs": [
        {
          "output_type": "stream",
          "name": "stdout",
          "text": [
            "Ingrese sus 4 notas para calcular su promedio: \n",
            "Ingrese su nota: 4\n",
            "Ingrese su nota: 4.2\n",
            "Ingrese su nota: 3.9\n",
            "Ingrese su nota: 4.5\n",
            "Debe presentar el examen final debido a que su promedio es de:  4.15\n"
          ]
        }
      ]
    },
    {
      "cell_type": "markdown",
      "source": [
        "##Ejercicio 7"
      ],
      "metadata": {
        "id": "OeBFC3UrV2x-"
      }
    },
    {
      "cell_type": "code",
      "source": [
        "from datetime import date,time,datetime\n",
        "print(\"Escriba su fecha de nacimiento de la forma (día/mes/año): \")\n",
        "Val1=str(input(\"\"))\n",
        "print(\"Escriba la fecha de su próximo cumpleaños de la forma (día/mes/año): \")\n",
        "Val2=str(input(\"\"))\n",
        "f1=datetime.strptime(Val1,'%d/%m/%Y')\n",
        "f2=datetime.now()\n",
        "f3=datetime.strptime(Val2,'%d/%m/%Y')\n",
        "ff1=(f3-f2)\n",
        "ff2=f2-f1\n",
        "print(\"La edad del usuario es de:\",int(ff2.days/365),\"años\")\n",
        "print(\"Faltan\",ff1.days,\"días\")"
      ],
      "metadata": {
        "colab": {
          "base_uri": "https://localhost:8080/"
        },
        "id": "wuEqW7KwBDNF",
        "outputId": "ce010cd2-7cd9-4cca-edfb-273ea3232ae8"
      },
      "execution_count": null,
      "outputs": [
        {
          "output_type": "stream",
          "name": "stdout",
          "text": [
            "Escriba su fecha de nacimiento de la forma (día/mes/año): \n",
            "16/04/2005\n",
            "Escriba la fecha de su próximo cumpleaños de la forma (día/mes/año): \n",
            "16/04/2023\n",
            "La edad del usuario es de: 17 años\n",
            "Faltan 244 días\n"
          ]
        }
      ]
    },
    {
      "cell_type": "markdown",
      "source": [
        "##Ejercicio 8"
      ],
      "metadata": {
        "id": "q7A32GSyV3Rz"
      }
    },
    {
      "cell_type": "code",
      "source": [
        "fecha1=int(input(\"Ingrese un año para determinar si es bisiesto: \"))\n",
        "def es_bisiesto(año:int)->bool:\n",
        "    return año%4==0 and (año%100!=0 or año%400==0)\n",
        "Respuesta=es_bisiesto(fecha1)\n",
        "if Respuesta==True:\n",
        "    print(\"El año\",fecha1,\"es bisiesto\")\n",
        "else:\n",
        "    print(\"El año\",fecha1,\"no es bisiesto\")"
      ],
      "metadata": {
        "colab": {
          "base_uri": "https://localhost:8080/"
        },
        "id": "0bRDyrYHCnML",
        "outputId": "67e926b9-477c-46ea-8903-923fcc7d1584"
      },
      "execution_count": null,
      "outputs": [
        {
          "output_type": "stream",
          "name": "stdout",
          "text": [
            "Ingrese un año para determinar si es bisiesto: 2024\n",
            "El año 2024 es bisiesto\n"
          ]
        }
      ]
    },
    {
      "cell_type": "markdown",
      "source": [
        "##Ejercicio 9"
      ],
      "metadata": {
        "id": "IYV_YZ5HQCPc"
      }
    },
    {
      "cell_type": "code",
      "source": [
        "a=float(input(\"Ingresa el coeficiente de a \"))\n",
        "b=float(input(\"Ingresa el coeficiente de b \"))\n",
        "x=(-b/a)\n",
        "print(\"El valor de x, dado el despeje de la ecuación de la recta ax+b=0 es: \",x)"
      ],
      "metadata": {
        "colab": {
          "base_uri": "https://localhost:8080/"
        },
        "id": "exsXMm9ETTGH",
        "outputId": "988d6111-9223-4246-c88c-0c7133965a8b"
      },
      "execution_count": null,
      "outputs": [
        {
          "output_type": "stream",
          "name": "stdout",
          "text": [
            "Ingresa el coeficiente de a 2\n",
            "Ingresa el coeficiente de b 9\n",
            "El valor de x, dado el despeje de la ecuación de la recta ax+b=0 es:  -4.5\n"
          ]
        }
      ]
    },
    {
      "cell_type": "markdown",
      "source": [
        "##Ejercicio 10"
      ],
      "metadata": {
        "id": "P8b4_845Up6T"
      }
    },
    {
      "cell_type": "code",
      "source": [
        "x=float(input(\"Escriba un valor en x que sea distinto a 0: \"))\n",
        "y=float(input(\"Escriba un valor en y: \"))\n",
        "b=float(input(\"Ingrese el punto de corte (b): \"))\n",
        "m=(y-b)/x\n",
        "print(\"La pendiente de la recta (m) es:\", m)"
      ],
      "metadata": {
        "colab": {
          "base_uri": "https://localhost:8080/"
        },
        "id": "mO5QUPtGXNXB",
        "outputId": "b31d6234-d214-4e41-e7b5-dfde86e5e192"
      },
      "execution_count": null,
      "outputs": [
        {
          "output_type": "stream",
          "name": "stdout",
          "text": [
            "Escriba un valor en x que sea distinto a 0: 2\n",
            "Escriba un valor en y: 5\n",
            "Ingrese el punto de corte (b): 3\n",
            "La pendiente de la recta (m) es: 1.0\n"
          ]
        }
      ]
    },
    {
      "cell_type": "markdown",
      "source": [
        "##Ejercicio 11"
      ],
      "metadata": {
        "id": "VGDc6HRaVLZJ"
      }
    },
    {
      "cell_type": "code",
      "source": [
        "from math import sqrt\n",
        "A = int(input(\"Ingrese el coeficiente de la variable cuadrática diferente de 0: \"))\n",
        "B = int(input(\"Ingrese el coeficiente de la variable lineal: \"))\n",
        "C = int(input(\"Ingrese el término independiente: \"))\n",
        "x1=0\n",
        "x2=0\n",
        "if ((B**2)-4*A*C) < 0:\n",
        "  print(\"La solución de la ecuación es con números complejos\")\n",
        "else:\n",
        "  x1=(-B+sqrt(B**2-(4*A*C)))/(2*A)\n",
        "  x2=(-B-sqrt(B**2-(4*A*C)))/(2*A)\n",
        "  print(\"Las soluciones de la ecuación son:\")\n",
        "  print(x1)\n",
        "  print(x2)"
      ],
      "metadata": {
        "colab": {
          "base_uri": "https://localhost:8080/"
        },
        "id": "TfYAnZIBaxln",
        "outputId": "03cb14f4-06a8-467e-f8a4-824334d2ae2b"
      },
      "execution_count": null,
      "outputs": [
        {
          "output_type": "stream",
          "name": "stdout",
          "text": [
            "Ingrese el coeficiente de la variable cuadrática diferente de 0: -5\n",
            "Ingrese el coeficiente de la variable lineal: 0\n",
            "Ingrese el término independiente: 2\n",
            "Las soluciones de la ecuación son:\n",
            "-0.6324555320336759\n",
            "0.6324555320336759\n"
          ]
        }
      ]
    },
    {
      "cell_type": "markdown",
      "source": [
        "##Ejercicio 12"
      ],
      "metadata": {
        "id": "QfZ1A7rQVRBB"
      }
    },
    {
      "cell_type": "code",
      "source": [
        "import random\n",
        "Val1= int(random.uniform(1,999))\n",
        "Val2= int(random.uniform(1,999))\n",
        "print(\"Defina la operación que desea probar\")\n",
        "print(\"Suma +\")\n",
        "print(\"Resta -\")\n",
        "print(\"Multiplicación *\")\n",
        "print(\"División /\")\n",
        "símbolo=input(\"Seleccione el símbolo: \")\n",
        "if símbolo == \"+\":\n",
        "    print(\"Sume:\",Val1,\"+\",Val2)\n",
        "    resultadoMaq= Val1 +Val2\n",
        "    resultadoPer= float(input(\"Ingrese el resultado de la operación: \"))\n",
        "    if resultadoMaq == resultadoPer:\n",
        "        print(\"El resultado es correcto\")\n",
        "        print(resultadoMaq)\n",
        "    else:\n",
        "        print(\"El resultado es incorrecto\")\n",
        "        print(\"El resultado correcto es: \",resultadoMaq)\n",
        "elif símbolo == \"-\":\n",
        "    print(\"Reste:\",Val1,\"-\",Val2)\n",
        "    resultadoMaq= Val1 - Val2\n",
        "    resultadoPer= float(input(\"Ingrese el resultado de la operación: \"))\n",
        "    if resultadoMaq == resultadoPer:\n",
        "        print(\"El resultado es correcto\")\n",
        "        print(resultadoMaq)\n",
        "    else:\n",
        "        print(\"El resultado es incorrecto\")\n",
        "        print(\"El resultado correcto es: \",resultadoMaq)\n",
        "elif símbolo == \"*\":\n",
        "    print(\"Multiplique:\",Val1,\"*\",Val2)\n",
        "    resultadoMaq= Val1 * Val2\n",
        "    resultadoPer= float(input(\"Ingrese el resultado de la operación: \"))\n",
        "    if resultadoMaq == resultadoPer:\n",
        "        print(\"El resultado es correcto\")\n",
        "        print(resultadoMaq)\n",
        "    else:\n",
        "        print(\"El resultado es incorrecto\")\n",
        "        print(\"El resultado correcto es: \",resultadoMaq)\n",
        "elif símbolo == \"/\":\n",
        "    print(\"Divida:\",Val1,\"/\",Val2)\n",
        "    resultadoMaq= Val1 / Val2\n",
        "    resultadoPer= float(input(\"Ingrese el resultado de la operación: \"))\n",
        "    if resultadoMaq == resultadoPer:\n",
        "        print(\"El resultado es correcto\")\n",
        "        print(resultadoMaq)\n",
        "    else:\n",
        "        print(\"El resultado es incorrecto\")\n",
        "        print(\"El resultado correcto es: \",resultadoMaq)"
      ],
      "metadata": {
        "colab": {
          "base_uri": "https://localhost:8080/"
        },
        "id": "gBDK9ycgliFT",
        "outputId": "6120581b-b8f9-439b-e36b-5ced1236e413"
      },
      "execution_count": null,
      "outputs": [
        {
          "output_type": "stream",
          "name": "stdout",
          "text": [
            "Defina la operación que desea probar\n",
            "Suma +\n",
            "Resta -\n",
            "Multiplicación *\n",
            "División /\n",
            "Seleccione el símbolo: *\n",
            "Multiplique: 986 * 922\n",
            "Ingrese el resultado de la operación: 45215\n",
            "El resultado es incorrecto\n",
            "El resultado correcto es:  909092\n"
          ]
        }
      ]
    },
    {
      "cell_type": "markdown",
      "source": [
        "##Ejercicio 13"
      ],
      "metadata": {
        "id": "v7hBnEEYVRNM"
      }
    },
    {
      "cell_type": "code",
      "source": [
        "print(\"Seleccione la Unidad que desea convertir\")\n",
        "print(\"Centímetros a Metros (1)\")\n",
        "print(\"Centímetros a Kilómetros (2)\")\n",
        "print(\"Metros a Kilómetros (3)\")\n",
        "print(\"Kilómetros a Centímetros (4)\")\n",
        "opción=int(input(\" \"))\n",
        "unidades=float(input(\"Ingrese la cantidad de unidades a convertir: \"))\n",
        "conversión=0\n",
        "if opción==1:\n",
        "    conversión=unidades/100\n",
        "    print(conversión,\"m\")\n",
        "elif opción==2:\n",
        "    conversión=unidades/10000\n",
        "    print(conversión,\"Km\")\n",
        "elif opción==3:\n",
        "    conversión=unidades/1000\n",
        "    print(conversión,\"Km\")\n",
        "elif opción==4:\n",
        "    conversión=unidades*1000\n",
        "    print(conversión,\"cm\")\n",
        "else:\n",
        "    print(\"Error. Esa opción no está disponible.\")"
      ],
      "metadata": {
        "colab": {
          "base_uri": "https://localhost:8080/"
        },
        "id": "8elHbIvCoLSU",
        "outputId": "6ba60b0c-57e1-41e4-ff80-b1358ed90223"
      },
      "execution_count": null,
      "outputs": [
        {
          "output_type": "stream",
          "name": "stdout",
          "text": [
            "Seleccione la Unidad que desea convertir\n",
            "Centímetros a Metros (1)\n",
            "Centímetros a Kilómetros (2)\n",
            "Metros a Kilómetros (3)\n",
            "Kilómetros a Centímetros (4)\n",
            " 2\n",
            "Ingrese la cantidad de unidades a convertir: 250\n",
            "0.025 Km\n"
          ]
        }
      ]
    },
    {
      "cell_type": "markdown",
      "source": [
        "##Ejercicio 14"
      ],
      "metadata": {
        "id": "U3Xfg9UVVRZ_"
      }
    },
    {
      "cell_type": "code",
      "source": [
        "let=str(input(\"Escriba una letra: \"))\n",
        "let=let.lower()\n",
        "if let.isdigit()==True:\n",
        "    print(\"Error. No ingrese números.\")\n",
        "elif len(let)>=2:\n",
        "    print(\"Error. No ingrese más de una letra.\")\n",
        "elif let!='a' and let!= 'e'and let!= 'i'and let!= 'o'and let!= 'u':\n",
        "    print(\"Se ha ingresado una consonante\")\n",
        "else:\n",
        "    print(\"Se ha ingresado una vocal\")"
      ],
      "metadata": {
        "colab": {
          "base_uri": "https://localhost:8080/"
        },
        "id": "EiaTS1ucDLvo",
        "outputId": "224422ea-76b7-4e4e-b87d-03fd9c21b6ea"
      },
      "execution_count": 4,
      "outputs": [
        {
          "output_type": "stream",
          "name": "stdout",
          "text": [
            "Escriba una letra: W\n",
            "Se ha ingresado una consonante\n"
          ]
        }
      ]
    },
    {
      "cell_type": "markdown",
      "source": [
        "##Ejercicio 15"
      ],
      "metadata": {
        "id": "e2z_8TZCVRkq"
      }
    },
    {
      "cell_type": "code",
      "source": [
        "N1=int(input(\"Ingrese un número entero: \"))\n",
        "print(\"El valor absouluto de: \",N1,\" es: \",abs(N1))"
      ],
      "metadata": {
        "colab": {
          "base_uri": "https://localhost:8080/"
        },
        "id": "B9b3tz2rrBaw",
        "outputId": "93624d99-1581-412e-ff47-b28e24e5cded"
      },
      "execution_count": null,
      "outputs": [
        {
          "output_type": "stream",
          "name": "stdout",
          "text": [
            "Ingrese un número entero: -17\n",
            "El valor absouluto de:  -17  es:  17\n"
          ]
        }
      ]
    },
    {
      "cell_type": "markdown",
      "source": [
        "##Ejercicio 16"
      ],
      "metadata": {
        "id": "v-nVL1ekVRuV"
      }
    },
    {
      "cell_type": "code",
      "source": [
        "User1=str(input(\"Ingrese un nombre: \"))\n",
        "User2=str(input(\"Ingrese el otro nombre: \"))\n",
        "Val1=list(User1)\n",
        "Val2=list(User2)\n",
        "def prueba():\n",
        "    Val1=list(User1)\n",
        "    Val2=list(User2)\n",
        "    for i in range(-1,1):\n",
        "        counter=0\n",
        "        for j in range(-1,1):\n",
        "            if Val1[-1]==Val2[-1] or Val1[0]==Val2[0]:\n",
        "                counter+=1\n",
        "            else:\n",
        "                counter=counter\n",
        "        if counter>=1:\n",
        "            print(\"Coincidencia.\")\n",
        "        else:\n",
        "            print(\"No hay coincidencia.\")\n",
        "        return\n",
        "prueba()"
      ],
      "metadata": {
        "colab": {
          "base_uri": "https://localhost:8080/"
        },
        "id": "uAeS7n-7rgyj",
        "outputId": "370bbf3c-55c2-489e-d328-14048704d88e"
      },
      "execution_count": null,
      "outputs": [
        {
          "output_type": "stream",
          "name": "stdout",
          "text": [
            "Ingrese un nombre: Eliana\n",
            "Ingrese el otro nombre: Elena\n",
            "Coincidencia.\n"
          ]
        }
      ]
    },
    {
      "cell_type": "markdown",
      "source": [
        "##Ejercicio 17"
      ],
      "metadata": {
        "id": "Zbb2qlPVVR2I"
      }
    },
    {
      "cell_type": "code",
      "source": [
        "print(\"Los candidatos son: Candidato A-Partido Alfa, Candidato B-Partido Beta, Candidato C-Partido Gamma\")\n",
        "opción=str(input(\"Escriba por cuál candidato va a votar: \"))\n",
        "if opción.upper( )=='A':\n",
        "    print(\"Ha votado por el Candidato A - Partido Alfa\")\n",
        "elif opción.upper( )=='B':\n",
        "    print(\"Ha votado por el Candidato B - Partido Beta\")\n",
        "elif opción.upper( )=='C':\n",
        "    print(\"Ha votado por el Candidato C - Partido Gamma\")\n",
        "elif opción.upper( )!=('A','B','C'):\n",
        "    print(\"Error. El candidato que usted ha seleccionado no existe.\")"
      ],
      "metadata": {
        "colab": {
          "base_uri": "https://localhost:8080/"
        },
        "id": "BcFIA3YOt3Wg",
        "outputId": "c16d3892-db12-492e-a739-2a633a7d6467"
      },
      "execution_count": null,
      "outputs": [
        {
          "output_type": "stream",
          "name": "stdout",
          "text": [
            "Los candidatos son: Candidato A-Partido Alfa, Candidato B-Partido Beta, Candidato C-Partido Gamma\n",
            "Escriba por cuál candidato va a votar: F\n",
            "Error. El candidato que usted ha seleccionado no existe.\n"
          ]
        }
      ]
    },
    {
      "cell_type": "markdown",
      "source": [
        "##Ejercicio 18"
      ],
      "metadata": {
        "id": "uc6qbVFpVR95"
      }
    },
    {
      "cell_type": "code",
      "source": [
        "print(\"Ingrese un número entero: \")\n",
        "Num1=str(input(\" \"))\n",
        "if len(Num1)>=4:\n",
        "    centenas=Num1[-3]\n",
        "if len(Num1)>=4:\n",
        "    decenas=Num1[-2]\n",
        "if len(Num1)>=4:\n",
        "    unidades=Num1[-1]\n",
        "print(f\"{Num1} tiene como valor de centenas: {centenas}\")\n",
        "print(f\"{Num1} tiene como valor de decenas: {decenas}\")\n",
        "print(f\"{Num1} tiene como valor de unidades: {unidades}\")"
      ],
      "metadata": {
        "colab": {
          "base_uri": "https://localhost:8080/"
        },
        "id": "4uYFvyVTvVsu",
        "outputId": "6463f9c1-981e-4f87-96e6-6462092fcf40"
      },
      "execution_count": null,
      "outputs": [
        {
          "output_type": "stream",
          "name": "stdout",
          "text": [
            "Ingrese un número entero: \n",
            " -2461\n",
            "-2461 tiene como valor de centenas: 4\n",
            "-2461 tiene como valor de decenas: 6\n",
            "-2461 tiene como valor de unidades: 1\n"
          ]
        }
      ]
    },
    {
      "cell_type": "markdown",
      "source": [
        "##Ejercicio 19"
      ],
      "metadata": {
        "id": "SOC88aH3VSEM"
      }
    },
    {
      "cell_type": "code",
      "source": [
        "User1=str(input(\"Escriba una palabra: \"))\n",
        "User1=User1.lower()\n",
        "Val1=list(User1)\n",
        "Val2=Val1\n",
        "Val2.reverse()\n",
        "def prueba ():\n",
        "    Val1=list(User1)\n",
        "    for i in range(0,len(Val1)):\n",
        "        counter=0\n",
        "        for j in range(0,len(Val1)):\n",
        "            if Val1[i]==Val2[i]:\n",
        "                counter+=1\n",
        "            else:\n",
        "                counter=counter\n",
        "    if counter==len(Val1):\n",
        "        print(\"La palabra\",User1,\"es un palÍndromo.\")\n",
        "    else:\n",
        "        print(\"La palabra\",User1,\"no es un palÍndromo.\")\n",
        "        return\n",
        "prueba()"
      ],
      "metadata": {
        "colab": {
          "base_uri": "https://localhost:8080/"
        },
        "id": "jA5XlpiIwqJm",
        "outputId": "217f6dbc-e822-4fe5-97e3-7ddbc1a172cd"
      },
      "execution_count": null,
      "outputs": [
        {
          "output_type": "stream",
          "name": "stdout",
          "text": [
            "Escriba una palabra: Eliana\n",
            "La palabra eliana no es un palÍndromo.\n"
          ]
        }
      ]
    },
    {
      "cell_type": "markdown",
      "source": [
        "##Ejercicio 20"
      ],
      "metadata": {
        "id": "OjLxbd2DVSJh"
      }
    },
    {
      "cell_type": "code",
      "source": [
        "User1=str(input(\"Digite un número: \"))\n",
        "User1=User1.lower()\n",
        "Val1=list(User1)\n",
        "Val2=Val1\n",
        "Val2.reverse()\n",
        "def prueba ():\n",
        "    Val1=list(User1)\n",
        "    for i in range(0,len(Val1)):\n",
        "        counter=0\n",
        "        for j in range(0,len(Val1)):\n",
        "            if Val1[i] == Val2[i]:\n",
        "                counter+=1\n",
        "            else:\n",
        "                counter=counter\n",
        "    if counter==len(Val1):\n",
        "        print(\"El número\",User1,\"es un palÍndromo\")\n",
        "    else:\n",
        "        print(\"El número\",User1,\"no es un palÍndromo\")\n",
        "        return\n",
        "prueba()"
      ],
      "metadata": {
        "colab": {
          "base_uri": "https://localhost:8080/"
        },
        "id": "OjjBZGx-yt5A",
        "outputId": "179d924c-f97b-492c-fe42-a37043991d48"
      },
      "execution_count": null,
      "outputs": [
        {
          "output_type": "stream",
          "name": "stdout",
          "text": [
            "Digite un número: 1545481\n",
            "El número 1545481 es un palÍndromo\n"
          ]
        }
      ]
    }
  ]
}