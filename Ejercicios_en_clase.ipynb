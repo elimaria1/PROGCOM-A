{
  "nbformat": 4,
  "nbformat_minor": 0,
  "metadata": {
    "colab": {
      "name": "Ejercicios en clase",
      "provenance": [],
      "collapsed_sections": []
    },
    "kernelspec": {
      "name": "python3",
      "display_name": "Python 3"
    },
    "language_info": {
      "name": "python"
    }
  },
  "cells": [
    {
      "cell_type": "markdown",
      "source": [
        "#ELIANA MARÍA CORTÉS CHACÓN Y SILVIA NATALIA JAIMES\n",
        "##PROGCOM-A"
      ],
      "metadata": {
        "id": "HJIfgGGYs4tj"
      }
    },
    {
      "cell_type": "markdown",
      "source": [
        "Ejercicio 4"
      ],
      "metadata": {
        "id": "dJMW9jC2yunh"
      }
    },
    {
      "cell_type": "code",
      "source": [
        "B=int (input(\"Ingrese un numero para hallar el factorial\"))\n",
        "\n",
        "def factorial(B):\n",
        " if B<0: \n",
        "  print(\"Factorial of negative num does not exist\")\n",
        " elif B == 0: \n",
        "  return 1\n",
        " else: \n",
        "  fact = 1\n",
        "  while(B > 1): \n",
        "    fact *= B\n",
        "    B -= 1\n",
        "    return fact \n",
        "B = 5; \n",
        "print(\"Factorial of\",B,\"is\", factorial(B))"
      ],
      "metadata": {
        "id": "SQ8D9-Iqz8-B"
      },
      "execution_count": null,
      "outputs": []
    },
    {
      "cell_type": "code",
      "source": [
        "from math import factorial\n",
        "for a in range (0,11):\n",
        "  x=int(input(\"Ingrese el número al que le quiere calcular el factorial \"))\n",
        "print(\"Factorial is \",+factorial(x))"
      ],
      "metadata": {
        "id": "oJurmsKDyS5a"
      },
      "execution_count": null,
      "outputs": []
    },
    {
      "cell_type": "markdown",
      "source": [
        "Ejercicio 6"
      ],
      "metadata": {
        "id": "rx-8ahBUmSmS"
      }
    },
    {
      "cell_type": "code",
      "source": [
        "x=int(input(\"Qué tabla desea generar? \"))\n",
        "print(\"Tabla del \", x)\n",
        "for s in range (1,11):\n",
        "  print(x, \"x\",s,\"=\",x*s)"
      ],
      "metadata": {
        "colab": {
          "base_uri": "https://localhost:8080/"
        },
        "id": "mdX2RN8-mWgC",
        "outputId": "5e457fa5-8dcb-43a9-f5c7-02fe12a976e4"
      },
      "execution_count": 16,
      "outputs": [
        {
          "output_type": "stream",
          "name": "stdout",
          "text": [
            "Qué tabla desea generar? 5\n",
            "Tabla del  5\n",
            "5 x 1 = 5\n",
            "5 x 2 = 10\n",
            "5 x 3 = 15\n",
            "5 x 4 = 20\n",
            "5 x 5 = 25\n",
            "5 x 6 = 30\n",
            "5 x 7 = 35\n",
            "5 x 8 = 40\n",
            "5 x 9 = 45\n",
            "5 x 10 = 50\n"
          ]
        }
      ]
    },
    {
      "cell_type": "code",
      "source": [
        "n=1\n",
        "while n!=10:\n",
        "  n=n+1\n",
        "  print(\"tabla del\" ,n)\n",
        "  for i in range (1,10):  \n",
        "    print(f\" {n} * {i} =\" ,n*1)\n",
        "print(\"\")"
      ],
      "metadata": {
        "colab": {
          "base_uri": "https://localhost:8080/"
        },
        "id": "OQkiMfw_t0F3",
        "outputId": "0943b11b-bc58-4fd5-de80-f4ccce997799"
      },
      "execution_count": 28,
      "outputs": [
        {
          "output_type": "stream",
          "name": "stdout",
          "text": [
            "tabla del 2\n",
            " 2 * 1 = 2\n",
            " 2 * 2 = 2\n",
            " 2 * 3 = 2\n",
            " 2 * 4 = 2\n",
            " 2 * 5 = 2\n",
            " 2 * 6 = 2\n",
            " 2 * 7 = 2\n",
            " 2 * 8 = 2\n",
            " 2 * 9 = 2\n",
            "tabla del 3\n",
            " 3 * 1 = 3\n",
            " 3 * 2 = 3\n",
            " 3 * 3 = 3\n",
            " 3 * 4 = 3\n",
            " 3 * 5 = 3\n",
            " 3 * 6 = 3\n",
            " 3 * 7 = 3\n",
            " 3 * 8 = 3\n",
            " 3 * 9 = 3\n",
            "tabla del 4\n",
            " 4 * 1 = 4\n",
            " 4 * 2 = 4\n",
            " 4 * 3 = 4\n",
            " 4 * 4 = 4\n",
            " 4 * 5 = 4\n",
            " 4 * 6 = 4\n",
            " 4 * 7 = 4\n",
            " 4 * 8 = 4\n",
            " 4 * 9 = 4\n",
            "tabla del 5\n",
            " 5 * 1 = 5\n",
            " 5 * 2 = 5\n",
            " 5 * 3 = 5\n",
            " 5 * 4 = 5\n",
            " 5 * 5 = 5\n",
            " 5 * 6 = 5\n",
            " 5 * 7 = 5\n",
            " 5 * 8 = 5\n",
            " 5 * 9 = 5\n",
            "tabla del 6\n",
            " 6 * 1 = 6\n",
            " 6 * 2 = 6\n",
            " 6 * 3 = 6\n",
            " 6 * 4 = 6\n",
            " 6 * 5 = 6\n",
            " 6 * 6 = 6\n",
            " 6 * 7 = 6\n",
            " 6 * 8 = 6\n",
            " 6 * 9 = 6\n",
            "tabla del 7\n",
            " 7 * 1 = 7\n",
            " 7 * 2 = 7\n",
            " 7 * 3 = 7\n",
            " 7 * 4 = 7\n",
            " 7 * 5 = 7\n",
            " 7 * 6 = 7\n",
            " 7 * 7 = 7\n",
            " 7 * 8 = 7\n",
            " 7 * 9 = 7\n",
            "tabla del 8\n",
            " 8 * 1 = 8\n",
            " 8 * 2 = 8\n",
            " 8 * 3 = 8\n",
            " 8 * 4 = 8\n",
            " 8 * 5 = 8\n",
            " 8 * 6 = 8\n",
            " 8 * 7 = 8\n",
            " 8 * 8 = 8\n",
            " 8 * 9 = 8\n",
            "tabla del 9\n",
            " 9 * 1 = 9\n",
            " 9 * 2 = 9\n",
            " 9 * 3 = 9\n",
            " 9 * 4 = 9\n",
            " 9 * 5 = 9\n",
            " 9 * 6 = 9\n",
            " 9 * 7 = 9\n",
            " 9 * 8 = 9\n",
            " 9 * 9 = 9\n",
            "tabla del 10\n",
            " 10 * 1 = 10\n",
            " 10 * 2 = 10\n",
            " 10 * 3 = 10\n",
            " 10 * 4 = 10\n",
            " 10 * 5 = 10\n",
            " 10 * 6 = 10\n",
            " 10 * 7 = 10\n",
            " 10 * 8 = 10\n",
            " 10 * 9 = 10\n",
            "\n"
          ]
        }
      ]
    },
    {
      "cell_type": "markdown",
      "source": [
        "Ejercicio 7"
      ],
      "metadata": {
        "id": "ks2J7zigswG0"
      }
    },
    {
      "cell_type": "code",
      "source": [
        "print(\"Ingrese los números a sumar\")\n",
        "a=int(input(\" \"))\n",
        "b=0\n",
        "\n",
        "for i in range (1,a):\n",
        "  print(i)\n",
        "  b=b+i\n",
        "  print(\"La suma es: \",b)"
      ],
      "metadata": {
        "colab": {
          "base_uri": "https://localhost:8080/"
        },
        "id": "7gXr87UXprt2",
        "outputId": "62c3403d-4014-4461-96cc-eef3553545d1"
      },
      "execution_count": 29,
      "outputs": [
        {
          "output_type": "stream",
          "name": "stdout",
          "text": [
            "Ingrese los números a sumar\n",
            " 100\n",
            "1\n",
            "La suma es:  1\n",
            "2\n",
            "La suma es:  3\n",
            "3\n",
            "La suma es:  6\n",
            "4\n",
            "La suma es:  10\n",
            "5\n",
            "La suma es:  15\n",
            "6\n",
            "La suma es:  21\n",
            "7\n",
            "La suma es:  28\n",
            "8\n",
            "La suma es:  36\n",
            "9\n",
            "La suma es:  45\n",
            "10\n",
            "La suma es:  55\n",
            "11\n",
            "La suma es:  66\n",
            "12\n",
            "La suma es:  78\n",
            "13\n",
            "La suma es:  91\n",
            "14\n",
            "La suma es:  105\n",
            "15\n",
            "La suma es:  120\n",
            "16\n",
            "La suma es:  136\n",
            "17\n",
            "La suma es:  153\n",
            "18\n",
            "La suma es:  171\n",
            "19\n",
            "La suma es:  190\n",
            "20\n",
            "La suma es:  210\n",
            "21\n",
            "La suma es:  231\n",
            "22\n",
            "La suma es:  253\n",
            "23\n",
            "La suma es:  276\n",
            "24\n",
            "La suma es:  300\n",
            "25\n",
            "La suma es:  325\n",
            "26\n",
            "La suma es:  351\n",
            "27\n",
            "La suma es:  378\n",
            "28\n",
            "La suma es:  406\n",
            "29\n",
            "La suma es:  435\n",
            "30\n",
            "La suma es:  465\n",
            "31\n",
            "La suma es:  496\n",
            "32\n",
            "La suma es:  528\n",
            "33\n",
            "La suma es:  561\n",
            "34\n",
            "La suma es:  595\n",
            "35\n",
            "La suma es:  630\n",
            "36\n",
            "La suma es:  666\n",
            "37\n",
            "La suma es:  703\n",
            "38\n",
            "La suma es:  741\n",
            "39\n",
            "La suma es:  780\n",
            "40\n",
            "La suma es:  820\n",
            "41\n",
            "La suma es:  861\n",
            "42\n",
            "La suma es:  903\n",
            "43\n",
            "La suma es:  946\n",
            "44\n",
            "La suma es:  990\n",
            "45\n",
            "La suma es:  1035\n",
            "46\n",
            "La suma es:  1081\n",
            "47\n",
            "La suma es:  1128\n",
            "48\n",
            "La suma es:  1176\n",
            "49\n",
            "La suma es:  1225\n",
            "50\n",
            "La suma es:  1275\n",
            "51\n",
            "La suma es:  1326\n",
            "52\n",
            "La suma es:  1378\n",
            "53\n",
            "La suma es:  1431\n",
            "54\n",
            "La suma es:  1485\n",
            "55\n",
            "La suma es:  1540\n",
            "56\n",
            "La suma es:  1596\n",
            "57\n",
            "La suma es:  1653\n",
            "58\n",
            "La suma es:  1711\n",
            "59\n",
            "La suma es:  1770\n",
            "60\n",
            "La suma es:  1830\n",
            "61\n",
            "La suma es:  1891\n",
            "62\n",
            "La suma es:  1953\n",
            "63\n",
            "La suma es:  2016\n",
            "64\n",
            "La suma es:  2080\n",
            "65\n",
            "La suma es:  2145\n",
            "66\n",
            "La suma es:  2211\n",
            "67\n",
            "La suma es:  2278\n",
            "68\n",
            "La suma es:  2346\n",
            "69\n",
            "La suma es:  2415\n",
            "70\n",
            "La suma es:  2485\n",
            "71\n",
            "La suma es:  2556\n",
            "72\n",
            "La suma es:  2628\n",
            "73\n",
            "La suma es:  2701\n",
            "74\n",
            "La suma es:  2775\n",
            "75\n",
            "La suma es:  2850\n",
            "76\n",
            "La suma es:  2926\n",
            "77\n",
            "La suma es:  3003\n",
            "78\n",
            "La suma es:  3081\n",
            "79\n",
            "La suma es:  3160\n",
            "80\n",
            "La suma es:  3240\n",
            "81\n",
            "La suma es:  3321\n",
            "82\n",
            "La suma es:  3403\n",
            "83\n",
            "La suma es:  3486\n",
            "84\n",
            "La suma es:  3570\n",
            "85\n",
            "La suma es:  3655\n",
            "86\n",
            "La suma es:  3741\n",
            "87\n",
            "La suma es:  3828\n",
            "88\n",
            "La suma es:  3916\n",
            "89\n",
            "La suma es:  4005\n",
            "90\n",
            "La suma es:  4095\n",
            "91\n",
            "La suma es:  4186\n",
            "92\n",
            "La suma es:  4278\n",
            "93\n",
            "La suma es:  4371\n",
            "94\n",
            "La suma es:  4465\n",
            "95\n",
            "La suma es:  4560\n",
            "96\n",
            "La suma es:  4656\n",
            "97\n",
            "La suma es:  4753\n",
            "98\n",
            "La suma es:  4851\n",
            "99\n",
            "La suma es:  4950\n"
          ]
        }
      ]
    },
    {
      "cell_type": "markdown",
      "source": [
        "Ejercicio 10"
      ],
      "metadata": {
        "id": "wVGJ8auytf6L"
      }
    },
    {
      "cell_type": "code",
      "source": [
        "#con while\n",
        "n=1\n",
        "b=1\n",
        "while n>0 and b<11:\n",
        "  n=int(input(\"Ingresa un número para multiplicar \"))\n",
        "  b=int(input(\"Ingresa otro número para multiplicar \"))\n",
        "  x=n*b\n",
        "  print(\"El resultado es\" ,x)\n",
        "print(\"Su número está fuera del rango\")"
      ],
      "metadata": {
        "colab": {
          "base_uri": "https://localhost:8080/"
        },
        "id": "jd_KocRNtdsg",
        "outputId": "3c1512fa-7be4-46d2-e6a9-26f779a71653"
      },
      "execution_count": 31,
      "outputs": [
        {
          "output_type": "stream",
          "name": "stdout",
          "text": [
            "Ingresa un número para multiplicar 2\n",
            "Ingresa otro número para multiplicar 11\n",
            "El resultado es 22\n",
            "Su número está fuera del rango\n"
          ]
        }
      ]
    },
    {
      "cell_type": "code",
      "source": [
        "#con for\n",
        "n=1\n",
        "b=1\n",
        "for i in range (1,10):\n",
        "  n=int(input(\"Ingresa un número para multiplicar \"))\n",
        "  b=int(input(\"Ingresa otro número para multiplicar \"))\n",
        "  i=n*b\n",
        "  print(\"El resultado es\" ,i)\n",
        "print(\"Su número está fuera del rango\")"
      ],
      "metadata": {
        "id": "Xs_le1SpuMkc"
      },
      "execution_count": null,
      "outputs": []
    },
    {
      "cell_type": "code",
      "source": [
        ""
      ],
      "metadata": {
        "id": "H3mPlaJOzqLQ"
      },
      "execution_count": null,
      "outputs": []
    }
  ]
}